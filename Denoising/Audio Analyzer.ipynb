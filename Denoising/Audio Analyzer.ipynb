{
 "cells": [
  {
   "cell_type": "code",
   "execution_count": 22,
   "id": "f63c9005",
   "metadata": {},
   "outputs": [
    {
     "name": "stdout",
     "output_type": "stream",
     "text": [
      "* recording\n",
      "2048\n"
     ]
    }
   ],
   "source": [
    "# Need to add filter for filtering noise\n",
    "\n",
    "# Reccomendation :\n",
    "# DSP Filter\n",
    "import pyaudio\n",
    "import wave\n",
    "import struct\n",
    "\n",
    "CHUNK = 1024\n",
    "FORMAT = pyaudio.paInt16\n",
    "CHANNELS = 1\n",
    "RATE = 16000\n",
    "RECORD_SECONDS = 1\n",
    "WAVE_OUTPUT_FILENAME = \"1.wav\"\n",
    "\n",
    "p = pyaudio.PyAudio()\n",
    "\n",
    "def audioStream():\n",
    "    # Start Streaming Audio\n",
    "    stream = p.open(format=FORMAT,\n",
    "                    channels=CHANNELS,\n",
    "                    rate=RATE,\n",
    "                    input=True,\n",
    "                    frames_per_buffer=CHUNK)\n",
    "\n",
    "    print(\"* recording\")\n",
    "\n",
    "    frames = []\n",
    "\n",
    "    #for i in range(0, int(RATE / CHUNK * RECORD_SECONDS)):\n",
    "    data = stream.read(CHUNK)\n",
    "    #frames.append(data)\n",
    "    \n",
    "    #print(len(frames))\n",
    "    #print(\"tes\")\n",
    "    data_int = struct.unpack(str(2* CHUNK) + 'B', data)\n",
    "    print(len(data_int))\n",
    "    # Terminate the stream\n",
    "    #stream.stop_stream()\n",
    "    #stream.close()\n",
    "    #p.terminate()\n",
    "    \n",
    "    #wf = wave.open(WAVE_OUTPUT_FILENAME, 'wb')\n",
    "    #wf.setnchannels(CHANNELS)\n",
    "    #wf.setsampwidth(p.get_sample_size(FORMAT))\n",
    "    #wf.setframerate(RATE)\n",
    "    #wf.writeframes(b''.join(frames))\n",
    "    #wf.close()\n",
    "\n",
    "audioStream()"
   ]
  },
  {
   "cell_type": "code",
   "execution_count": null,
   "id": "8d495932",
   "metadata": {},
   "outputs": [],
   "source": []
  }
 ],
 "metadata": {
  "kernelspec": {
   "display_name": "Python 3",
   "language": "python",
   "name": "python3"
  },
  "language_info": {
   "codemirror_mode": {
    "name": "ipython",
    "version": 3
   },
   "file_extension": ".py",
   "mimetype": "text/x-python",
   "name": "python",
   "nbconvert_exporter": "python",
   "pygments_lexer": "ipython3",
   "version": "3.8.5"
  }
 },
 "nbformat": 4,
 "nbformat_minor": 5
}
