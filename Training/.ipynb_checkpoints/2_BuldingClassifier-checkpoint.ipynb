{
 "cells": [
  {
   "cell_type": "code",
   "execution_count": 1,
   "id": "d0c71b37",
   "metadata": {},
   "outputs": [],
   "source": [
    "from os import listdir\n",
    "from os.path import isdir, join\n",
    "from tensorflow.keras import layers, models\n",
    "import numpy as np\n",
    "import tensorflow as tf\n",
    "from tensorflow import keras"
   ]
  },
  {
   "cell_type": "code",
   "execution_count": 3,
   "id": "3c0e8aa7",
   "metadata": {},
   "outputs": [
    {
     "ename": "FileNotFoundError",
     "evalue": "[Errno 2] No such file or directory: '../../Dataset/speech_data'",
     "output_type": "error",
     "traceback": [
      "\u001b[0;31m---------------------------------------------------------------------------\u001b[0m",
      "\u001b[0;31mFileNotFoundError\u001b[0m                         Traceback (most recent call last)",
      "\u001b[0;32m<ipython-input-3-69d22cc0cbb0>\u001b[0m in \u001b[0;36m<module>\u001b[0;34m\u001b[0m\n\u001b[1;32m      1\u001b[0m \u001b[0;31m# Create list of all targets\u001b[0m\u001b[0;34m\u001b[0m\u001b[0;34m\u001b[0m\u001b[0;34m\u001b[0m\u001b[0m\n\u001b[1;32m      2\u001b[0m \u001b[0mdataset_path\u001b[0m \u001b[0;34m=\u001b[0m \u001b[0;34m\"../../Dataset/speech_data\"\u001b[0m\u001b[0;34m\u001b[0m\u001b[0;34m\u001b[0m\u001b[0m\n\u001b[0;32m----> 3\u001b[0;31m \u001b[0mall_targets\u001b[0m  \u001b[0;34m=\u001b[0m \u001b[0mall_targets\u001b[0m \u001b[0;34m=\u001b[0m \u001b[0;34m[\u001b[0m\u001b[0mname\u001b[0m \u001b[0;32mfor\u001b[0m \u001b[0mname\u001b[0m \u001b[0;32min\u001b[0m \u001b[0mlistdir\u001b[0m\u001b[0;34m(\u001b[0m\u001b[0mdataset_path\u001b[0m\u001b[0;34m)\u001b[0m \u001b[0;32mif\u001b[0m \u001b[0misdir\u001b[0m\u001b[0;34m(\u001b[0m\u001b[0mjoin\u001b[0m\u001b[0;34m(\u001b[0m\u001b[0mdataset_path\u001b[0m\u001b[0;34m,\u001b[0m \u001b[0mname\u001b[0m\u001b[0;34m)\u001b[0m\u001b[0;34m)\u001b[0m\u001b[0;34m]\u001b[0m\u001b[0;34m\u001b[0m\u001b[0;34m\u001b[0m\u001b[0m\n\u001b[0m\u001b[1;32m      4\u001b[0m \u001b[0mall_targets\u001b[0m\u001b[0;34m.\u001b[0m\u001b[0mremove\u001b[0m\u001b[0;34m(\u001b[0m\u001b[0;34m\"_background_noise_\"\u001b[0m\u001b[0;34m)\u001b[0m\u001b[0;34m\u001b[0m\u001b[0;34m\u001b[0m\u001b[0m\n",
      "\u001b[0;31mFileNotFoundError\u001b[0m: [Errno 2] No such file or directory: '../../Dataset/speech_data'"
     ]
    }
   ],
   "source": [
    "# Create list of all targets\n",
    "dataset_path = \"../../Dataset/speech_data\"\n",
    "all_targets  = all_targets = [name for name in listdir(dataset_path) if isdir(join(dataset_path, name))]\n",
    "all_targets.remove(\"_background_noise_\")"
   ]
  },
  {
   "cell_type": "code",
   "execution_count": 96,
   "id": "5da71110",
   "metadata": {},
   "outputs": [],
   "source": [
    "# Settings\n",
    "feature_sets_path = \"./\"\n",
    "feature_sets_filename = \"all_targets_mfcc_sets.npz\"\n",
    "model_filename = \"wake_word_stop_model.h5\"\n",
    "wake_word = \"stop\""
   ]
  },
  {
   "cell_type": "code",
   "execution_count": 97,
   "id": "cd917d74",
   "metadata": {},
   "outputs": [],
   "source": [
    "# Load Feature Sets\n",
    "feature_sets = np.load(join(feature_sets_path, feature_sets_filename))"
   ]
  },
  {
   "cell_type": "code",
   "execution_count": 98,
   "id": "0f6c2cd3",
   "metadata": {},
   "outputs": [],
   "source": [
    "# Assign Feature Sets\n",
    "\n",
    "# [TRAINING]\n",
    "x_train = feature_sets['x_train']\n",
    "y_train = feature_sets['y_train']\n",
    "\n",
    "# [VALIDATION]\n",
    "x_val = feature_sets['x_val']\n",
    "y_val = feature_sets['y_val']\n",
    "\n",
    "# [TEST]\n",
    "x_test = feature_sets['x_test']\n",
    "y_test = feature_sets['y_test']"
   ]
  },
  {
   "cell_type": "code",
   "execution_count": 101,
   "id": "e6f4712a",
   "metadata": {},
   "outputs": [
    {
     "name": "stdout",
     "output_type": "stream",
     "text": [
      "(7772, 16, 16)\n",
      "(961, 16, 16)\n",
      "(975, 16, 16)\n"
     ]
    }
   ],
   "source": [
    "# Look at Tensor Dimensions\n",
    "print(x_train.shape)\n",
    "print(x_val.shape)\n",
    "print(x_test.shape)"
   ]
  },
  {
   "cell_type": "code",
   "execution_count": 13,
   "id": "341dcbbb",
   "metadata": {},
   "outputs": [
    {
     "name": "stdout",
     "output_type": "stream",
     "text": [
      "[14. 23.  7.  7. 15. 24.  9. 31. 27. 30. 32. 32. 22. 22. 14. 32.  3.  3.\n",
      "  1. 25.  8. 21. 27. 16. 34. 20. 12. 32. 11. 19. 10.  8. 23. 18.  7. 18.\n",
      " 11. 21. 19. 33. 29. 12. 28.  9. 27. 23. 17. 13.  0. 11. 18. 33. 22. 25.\n",
      " 30. 32. 17.  9. 21. 12. 14. 14.  9. 12. 11. 25.  1. 13. 10. 14. 16.  1.\n",
      " 28. 27. 21. 22. 16. 12. 27. 32. 17. 20.  9.  4. 12. 22.  5. 21. 19. 19.\n",
      " 26.  8. 34.  9. 25. 17. 31. 16.  7. 29. 18. 19.  3. 22. 21. 33.  7. 33.\n",
      "  3.  7.  9. 16. 30. 22. 14. 19.  5.  1. 12.  6. 17.  5. 15.  7. 13. 11.\n",
      " 16. 20. 19. 22. 15. 34. 31. 30. 16. 21. 12.  3.  9.  6. 17. 18.  9. 29.\n",
      "  1.  8. 32. 23.  5. 18. 14. 15. 20. 31.  1. 31. 19.  1.  8. 25. 23. 17.\n",
      " 19. 20. 16. 27. 22. 14. 24.  9. 23.  5.  9. 21.  9.  5. 18.  0. 32.  6.\n",
      "  5. 18.  9.  5. 22.  5.  5.  8. 24. 20.  9. 25. 34. 26. 34. 16.  3. 11.\n",
      " 12. 19. 20. 17. 28. 30. 24.  6.  7.  5. 28. 12. 21. 24. 12. 33. 32. 22.\n",
      " 31. 29. 29. 28.  9.  8.  7. 17. 32. 29.  4. 30. 25. 33. 29. 20. 24.  8.\n",
      " 31. 21. 14. 34. 19. 33. 11. 10. 18.  2. 22. 19. 34. 12.  9.  0.  0. 25.\n",
      " 19. 20.  9.  1. 21.  7. 22.  1.  9. 18. 32.  0. 16. 16. 33. 11. 20. 14.\n",
      " 32. 14. 13. 29. 33. 16.  0. 32. 33. 19.  7. 13.  1. 28. 21. 21. 33. 22.\n",
      " 20. 21.  1.  2. 24. 22. 19. 15. 11. 17.  8.  5.  9. 12.  1. 14. 25.  6.\n",
      " 24. 29. 33. 27. 29. 25. 28. 29. 17. 21. 12. 31. 28. 19. 13. 11. 10. 15.\n",
      " 32. 20.  7. 34. 31. 14.  9. 19. 29.  9. 10. 31. 24. 10. 13. 32. 19. 34.\n",
      " 19. 26. 15.  1. 15. 31. 21.  6. 25.  2. 12. 31. 33.  1. 25.  3. 31. 31.\n",
      "  5.  3. 15. 24. 14. 16.  6. 18. 19. 20. 23. 20. 31. 21. 28. 31. 21. 34.\n",
      "  3. 17. 13. 19. 21.  7.  5. 30. 28. 19. 28.  1. 24. 34. 19.  1. 19. 29.\n",
      "  7.  9. 25. 14. 28. 14. 12.  5. 29.  8. 25. 23. 24. 33. 17.  9. 28.  9.\n",
      " 24. 11. 31.  6. 13. 18.  1. 32. 11. 17. 33.  1. 25. 28.  6. 28.  7. 32.\n",
      " 31. 34. 28.  6. 19. 24.  7. 24. 24. 29. 14. 16. 11. 32.  7. 16. 15. 19.\n",
      " 19. 28. 25. 22. 19. 22. 20.  1. 34. 34.  4. 29. 34. 13.  3. 12. 29.  6.\n",
      " 14. 12.  5. 19. 27. 26. 31.  2.  9. 32. 21. 23. 34. 17.  3.  3. 18. 24.\n",
      " 34. 12. 32. 17.  8. 11. 32. 18. 34. 23. 14. 31. 19. 32.  1. 10. 25. 21.\n",
      " 22.  1. 19. 34. 20. 33. 26. 17. 33. 29. 18. 18. 23. 29. 10. 18. 24.  9.\n",
      " 21. 34.  4. 18. 15. 20. 23. 32. 19. 26.  1. 24. 20. 21. 14. 20. 34. 24.\n",
      "  7. 23.  9. 11. 13. 12. 32. 25. 16.  9. 16. 32. 17. 22.  4. 14. 34. 15.\n",
      "  9. 28. 28. 22. 16. 23.  8. 33. 25. 18.  8. 16. 17. 11. 33. 11. 16.  6.\n",
      " 20. 34.  7.  4. 25. 24. 30.  6. 24. 25. 27.  7.  6. 22. 27. 33.  0. 20.\n",
      "  2. 23. 15.  7. 31. 19. 20. 20. 32. 24. 14. 24. 24. 10. 17. 16. 15.  7.\n",
      "  0. 11. 23. 12. 28. 28. 29.  0.  9.  1. 19. 31. 12. 29.  0. 21. 11.  1.\n",
      " 14.  4.  2. 22. 17.  7. 21. 31. 23. 22. 22.  6. 14. 33. 32. 27.  9. 28.\n",
      " 23. 21.  5.  3. 14. 11. 14.  6. 19.  7. 11. 16. 20.  4.  6. 31. 20.  7.\n",
      " 23. 34. 31. 22. 25. 33.  6.  9.  1. 33. 26. 31. 19. 16.  3. 13. 31. 24.\n",
      "  1. 29. 15. 34. 15. 26.  8. 24. 21. 28. 23. 34. 34. 28. 34. 34. 11. 31.\n",
      "  5. 11.  9.  2. 14.  1. 10. 19. 19. 33. 14. 25.  7. 21. 13.  1.  6. 12.\n",
      " 16.  9.  5. 14. 17. 20. 11. 22. 19. 25. 19. 11. 24. 26. 18. 16. 32. 31.\n",
      " 29. 16. 12. 21. 29. 25. 19.  0. 24. 28. 26. 32.  5. 21. 13. 20. 21. 23.\n",
      " 21. 29.  9. 17. 16. 33. 19.  8. 32. 32. 25. 16.  6. 32.  6. 24. 15.  7.\n",
      "  3. 16. 29.  9. 23. 12.  1. 34. 10. 21.  6. 27.  7. 18. 25. 22.  7. 17.\n",
      " 28.  2. 11. 20. 31. 21.  1.  6. 28. 20. 17. 31. 28. 31. 31. 27. 23.  7.\n",
      " 22.  3. 14.  8. 29. 22.  8. 25. 19. 18.  8. 16.  9. 18. 10. 29. 16.  2.\n",
      " 33. 16. 15. 14. 16. 11.  1. 27. 20.  9. 34. 33.  9. 13. 28. 20.  4. 25.\n",
      " 23. 27. 20. 31. 21. 28. 18.  3.  4. 29. 34. 19. 19. 11.  7. 28. 14. 22.\n",
      " 32. 21. 17.  5. 22. 21. 22. 34. 14. 13.  4.  8. 26. 24. 27.  8. 21. 23.\n",
      " 33. 26. 34.  9. 22. 14. 24.  9. 32. 11. 11.  1.  9.  8.  7. 21. 12.  9.\n",
      " 24. 14. 23. 21. 11. 33. 32. 14. 12. 20. 24. 11. 24. 28. 13.  0. 14. 21.\n",
      " 24. 16. 33. 16. 13. 19.  9. 16. 20. 25. 30. 31.  2. 29. 33. 16.  7. 33.\n",
      " 10.  3.  9. 24.  5. 28. 12.  0. 24.  0. 10. 19. 31. 12. 20. 12.  5. 10.\n",
      " 21.  8. 22. 29. 31.  7. 18.]\n"
     ]
    }
   ],
   "source": [
    "# Peek at labels\n",
    "print(y_val)"
   ]
  },
  {
   "cell_type": "code",
   "execution_count": 14,
   "id": "41db79c7",
   "metadata": {},
   "outputs": [],
   "source": [
    "# Convert ground truth arrays to one wake word (1) and 'other' (0)\n",
    "wake_word_index = all_targets.index(wake_word)\n",
    "y_train = np.equal(y_train, wake_word_index).astype('float64')\n",
    "y_val   = np.equal(y_val, wake_word_index).astype('float64')\n",
    "y_test  = np.equal(y_test, wake_word_index).astype('float64')"
   ]
  },
  {
   "cell_type": "code",
   "execution_count": 15,
   "id": "c5132403",
   "metadata": {},
   "outputs": [
    {
     "data": {
      "text/plain": [
       "array([0., 0., 0., 0., 0., 0., 0., 0., 0., 0., 0., 0., 0., 0., 0., 0., 0.,\n",
       "       0., 0., 0., 0., 0., 0., 0., 0., 0., 0., 0., 0., 0., 0., 0., 0., 0.,\n",
       "       0., 0., 0., 0., 0., 0., 0., 0., 0., 0., 0., 0., 1., 0., 0., 0., 0.,\n",
       "       0., 0., 0., 0., 0., 1., 0., 0., 0., 0., 0., 0., 0., 0., 0., 0., 0.,\n",
       "       0., 0., 0., 0., 0., 0., 0., 0., 0., 0., 0., 0., 1., 0., 0., 0., 0.,\n",
       "       0., 0., 0., 0., 0., 0., 0., 0., 0., 0., 1., 0., 0., 0., 0., 0., 0.,\n",
       "       0., 0., 0., 0., 0., 0., 0., 0., 0., 0., 0., 0., 0., 0., 0., 0., 0.,\n",
       "       0., 1., 0., 0., 0., 0., 0., 0., 0., 0., 0., 0., 0., 0., 0., 0., 0.,\n",
       "       0., 0., 0., 0., 1., 0., 0., 0., 0., 0., 0., 0., 0., 0., 0., 0., 0.,\n",
       "       0., 0., 0., 0., 0., 0., 0., 0., 1., 0., 0., 0., 0., 0., 0., 0., 0.,\n",
       "       0., 0., 0., 0., 0., 0., 0., 0., 0., 0., 0., 0., 0., 0., 0., 0., 0.,\n",
       "       0., 0., 0., 0., 0., 0., 0., 0., 0., 0., 0., 0., 0., 0., 1., 0., 0.,\n",
       "       0., 0., 0., 0., 0., 0., 0., 0., 0., 0., 0., 0., 0., 0., 0., 0., 0.,\n",
       "       0., 0., 1., 0., 0., 0., 0., 0., 0., 0., 0., 0., 0., 0., 0., 0., 0.,\n",
       "       0., 0., 0., 0., 0., 0., 0., 0., 0., 0., 0., 0., 0., 0., 0., 0., 0.,\n",
       "       0., 0., 0., 0., 0., 0., 0., 0., 0., 0., 0., 0., 0., 0., 0., 0., 0.,\n",
       "       0., 0., 0., 0., 0., 0., 0., 0., 0., 0., 0., 0., 0., 0., 0., 0., 0.,\n",
       "       0., 0., 0., 0., 0., 0., 0., 0., 1., 0., 0., 0., 0., 0., 0., 0., 0.,\n",
       "       0., 0., 0., 0., 0., 0., 0., 0., 1., 0., 0., 0., 0., 0., 0., 0., 0.,\n",
       "       0., 0., 0., 0., 0., 0., 0., 0., 0., 0., 0., 0., 0., 0., 0., 0., 0.,\n",
       "       0., 0., 0., 0., 0., 0., 0., 0., 0., 0., 0., 0., 0., 0., 0., 0., 0.,\n",
       "       0., 0., 0., 0., 0., 0., 0., 0., 0., 0., 0., 0., 0., 0., 0., 0., 0.,\n",
       "       0., 0., 0., 0., 0., 1., 0., 0., 0., 0., 0., 0., 0., 0., 0., 0., 0.,\n",
       "       0., 0., 0., 0., 0., 0., 0., 0., 0., 0., 0., 0., 0., 0., 0., 0., 0.,\n",
       "       0., 0., 1., 0., 0., 0., 0., 0., 0., 0., 0., 0., 0., 0., 0., 1., 0.,\n",
       "       0., 0., 0., 0., 0., 0., 0., 0., 0., 0., 0., 0., 0., 0., 0., 0., 0.,\n",
       "       0., 0., 0., 0., 0., 0., 0., 0., 0., 0., 0., 0., 0., 0., 0., 0., 0.,\n",
       "       0., 0., 0., 0., 0., 0., 0., 0., 0., 0., 0., 0., 0., 0., 0., 0., 0.,\n",
       "       0., 0., 0., 0., 0., 1., 0., 0., 0., 0., 0., 0., 0., 1., 0., 0., 0.,\n",
       "       0., 0., 0., 0., 0., 0., 0., 0., 0., 0., 0., 0., 0., 0., 0., 0., 0.,\n",
       "       0., 1., 0., 0., 0., 0., 0., 0., 0., 0., 0., 0., 0., 0., 0., 0., 0.,\n",
       "       0., 0., 0., 0., 0., 0., 0., 0., 0., 0., 0., 0., 0., 0., 0., 0., 0.,\n",
       "       0., 0., 0., 0., 0., 0., 0., 0., 1., 0., 0., 0., 0., 0., 0., 0., 0.,\n",
       "       0., 0., 0., 0., 0., 0., 0., 0., 0., 1., 0., 0., 0., 0., 0., 0., 0.,\n",
       "       0., 0., 0., 0., 0., 0., 0., 0., 0., 0., 0., 0., 0., 0., 0., 0., 0.,\n",
       "       0., 0., 0., 0., 0., 0., 0., 0., 0., 0., 0., 0., 0., 1., 0., 0., 0.,\n",
       "       0., 0., 0., 0., 0., 0., 0., 0., 0., 0., 0., 0., 0., 0., 0., 0., 0.,\n",
       "       0., 0., 0., 0., 0., 1., 0., 0., 0., 0., 0., 0., 0., 0., 0., 0., 0.,\n",
       "       0., 0., 0., 0., 0., 0., 0., 0., 0., 0., 0., 0., 0., 0., 0., 0., 0.,\n",
       "       0., 0., 0., 0., 0., 0., 0., 0., 0., 0., 0., 0., 0., 0., 0., 0., 0.,\n",
       "       0., 0., 0., 0., 0., 0., 0., 0., 0., 0., 0., 0., 0., 0., 0., 0., 0.,\n",
       "       0., 0., 0., 0., 0., 0., 0., 0., 0., 0., 0., 0., 0., 0., 0., 0., 0.,\n",
       "       0., 0., 0., 0., 0., 0., 0., 0., 0., 0., 1., 0., 0., 0., 0., 0., 0.,\n",
       "       0., 0., 0., 0., 0., 0., 0., 0., 0., 0., 0., 0., 0., 0., 0., 0., 0.,\n",
       "       0., 0., 0., 0., 0., 0., 0., 0., 0., 0., 0., 1., 0., 0., 0., 0., 0.,\n",
       "       0., 0., 0., 0., 0., 0., 0., 0., 0., 0., 0., 0., 0., 0., 0., 0., 0.,\n",
       "       0., 0., 0., 0., 0., 0., 0., 0., 0., 1., 0., 0., 0., 0., 0., 0., 0.,\n",
       "       0., 0., 0., 1., 0., 0., 0., 0., 0., 0., 0., 0., 0., 0., 0., 0., 0.,\n",
       "       0., 0., 0., 0., 0., 0., 0., 0., 0., 0., 0., 0., 0., 0., 0., 0., 0.,\n",
       "       0., 0., 0., 0., 0., 0., 0., 0., 0., 0., 0., 0., 0., 0., 0., 0., 0.,\n",
       "       0., 0., 0., 0., 0., 0., 0., 0., 0., 0., 0., 0., 0., 0., 0., 0., 1.,\n",
       "       0., 0., 0., 0., 0., 0., 0., 0., 0., 0., 0., 0., 0., 0., 0., 0., 0.,\n",
       "       0., 0., 0., 0., 0., 0., 0., 0., 0., 0., 0., 0., 0., 0., 0., 0., 0.,\n",
       "       0., 0., 0., 0., 0., 0., 0., 0., 0., 0., 0., 0., 0., 0., 0., 0., 0.,\n",
       "       0., 0., 0., 0., 0., 0., 0., 0., 0., 0., 0., 0., 0., 0., 0., 0., 0.,\n",
       "       0., 0., 0., 0., 0., 0., 0., 0., 0., 0., 0., 0., 0., 0., 0., 0., 0.,\n",
       "       0., 0., 0., 0., 0., 0., 0., 0., 0.])"
      ]
     },
     "execution_count": 15,
     "metadata": {},
     "output_type": "execute_result"
    }
   ],
   "source": [
    "y_val"
   ]
  },
  {
   "cell_type": "code",
   "execution_count": 16,
   "id": "b147f564",
   "metadata": {},
   "outputs": [
    {
     "name": "stdout",
     "output_type": "stream",
     "text": [
      "0.027055150884495317\n",
      "0.9729448491155047\n"
     ]
    }
   ],
   "source": [
    "print(sum(y_val) / len(y_val))\n",
    "print(1 - sum(y_val) / len(y_val))"
   ]
  },
  {
   "cell_type": "code",
   "execution_count": 18,
   "id": "f53bf3ba",
   "metadata": {},
   "outputs": [
    {
     "name": "stdout",
     "output_type": "stream",
     "text": [
      "(7772, 16, 16)\n"
     ]
    }
   ],
   "source": [
    "# Dimension of input data\n",
    "print(x_train.shape)"
   ]
  },
  {
   "cell_type": "code",
   "execution_count": 93,
   "id": "3370ed26",
   "metadata": {},
   "outputs": [
    {
     "name": "stdout",
     "output_type": "stream",
     "text": [
      "(975, 16, 16, 1)\n",
      "(7772, 16, 16, 1)\n",
      "(961, 16, 16, 1)\n",
      "(975, 16, 16, 1)\n"
     ]
    }
   ],
   "source": [
    "# CNN for IF expects (batch, height, width, channels)\n",
    "# So we reshape the input tensors with a \"color\" channel of 1\n",
    "\n",
    "# [TRAINING]\n",
    "x_train = x_train.reshape(x_train.shape[0],\n",
    "                          x_train.shape[1],\n",
    "                          x_train.shape[2],\n",
    "                          1)\n",
    "# [VALIDATION]\n",
    "x_val = x_val.reshape(x_val.shape[0],\n",
    "                      x_val.shape[1],\n",
    "                      x_val.shape[2],\n",
    "                      1)\n",
    "\n",
    "print(x_test.shape)\n",
    "# [TEST]\n",
    "x_test = x_test.reshape(x_test.shape[0],\n",
    "                        x_test.shape[1],\n",
    "                        x_test.shape[2],\n",
    "                        1)\n",
    "\n",
    "print(x_train.shape)\n",
    "print(x_val.shape)\n",
    "print(x_test.shape)"
   ]
  },
  {
   "cell_type": "code",
   "execution_count": 87,
   "id": "618b8725",
   "metadata": {},
   "outputs": [
    {
     "name": "stdout",
     "output_type": "stream",
     "text": [
      "(16, 16, 1)\n"
     ]
    }
   ],
   "source": [
    "# Input shape for CNN is size MFCC of 1 sample\n",
    "sample_shape = x_test.shape[1:]\n",
    "print(sample_shape)"
   ]
  },
  {
   "cell_type": "code",
   "execution_count": 22,
   "id": "f618f513",
   "metadata": {},
   "outputs": [],
   "source": [
    "# Build model\n",
    "# Based on: https://www.geeksforgeeks.org/python-image-classification-using-keras/\n",
    "model = models.Sequential()\n",
    "model.add(layers.Conv2D(32, \n",
    "                        (2, 2), \n",
    "                        activation='relu',\n",
    "                        input_shape=sample_shape))\n",
    "model.add(layers.MaxPooling2D(pool_size=(2, 2)))\n",
    "\n",
    "model.add(layers.Conv2D(32, (2, 2), activation='relu'))\n",
    "model.add(layers.MaxPooling2D(pool_size=(2, 2)))\n",
    "\n",
    "model.add(layers.Conv2D(64, (2, 2), activation='relu'))\n",
    "model.add(layers.MaxPooling2D(pool_size=(2, 2)))\n",
    "\n",
    "# Classifier\n",
    "model.add(layers.Flatten())\n",
    "model.add(layers.Dense(64, activation='relu'))\n",
    "model.add(layers.Dropout(0.5))\n",
    "model.add(layers.Dense(1, activation='sigmoid'))"
   ]
  },
  {
   "cell_type": "code",
   "execution_count": 29,
   "id": "49b73402",
   "metadata": {},
   "outputs": [
    {
     "name": "stdout",
     "output_type": "stream",
     "text": [
      "Model: \"sequential\"\n",
      "_________________________________________________________________\n",
      "Layer (type)                 Output Shape              Param #   \n",
      "=================================================================\n",
      "conv2d (Conv2D)              (None, 15, 15, 32)        160       \n",
      "_________________________________________________________________\n",
      "max_pooling2d (MaxPooling2D) (None, 7, 7, 32)          0         \n",
      "_________________________________________________________________\n",
      "conv2d_1 (Conv2D)            (None, 6, 6, 32)          4128      \n",
      "_________________________________________________________________\n",
      "max_pooling2d_1 (MaxPooling2 (None, 3, 3, 32)          0         \n",
      "_________________________________________________________________\n",
      "conv2d_2 (Conv2D)            (None, 2, 2, 64)          8256      \n",
      "_________________________________________________________________\n",
      "max_pooling2d_2 (MaxPooling2 (None, 1, 1, 64)          0         \n",
      "_________________________________________________________________\n",
      "flatten (Flatten)            (None, 64)                0         \n",
      "_________________________________________________________________\n",
      "dense (Dense)                (None, 64)                4160      \n",
      "_________________________________________________________________\n",
      "dropout (Dropout)            (None, 64)                0         \n",
      "_________________________________________________________________\n",
      "dense_1 (Dense)              (None, 1)                 65        \n",
      "=================================================================\n",
      "Total params: 16,769\n",
      "Trainable params: 16,769\n",
      "Non-trainable params: 0\n",
      "_________________________________________________________________\n",
      "Epoch 1/35\n",
      "78/78 [==============================] - 5s 16ms/step - loss: 0.0279 - acc: 0.9914 - val_loss: 0.0906 - val_acc: 0.9834\n",
      "Epoch 2/35\n",
      "78/78 [==============================] - 1s 13ms/step - loss: 0.0209 - acc: 0.9920 - val_loss: 0.1036 - val_acc: 0.9646\n",
      "Epoch 3/35\n",
      "78/78 [==============================] - 1s 14ms/step - loss: 0.0167 - acc: 0.9947 - val_loss: 0.0889 - val_acc: 0.9781\n",
      "Epoch 4/35\n",
      "78/78 [==============================] - 1s 14ms/step - loss: 0.0190 - acc: 0.9943 - val_loss: 0.0958 - val_acc: 0.9844\n",
      "Epoch 5/35\n",
      "78/78 [==============================] - 1s 15ms/step - loss: 0.0101 - acc: 0.9973 - val_loss: 0.1069 - val_acc: 0.9823\n",
      "Epoch 6/35\n",
      "78/78 [==============================] - 1s 14ms/step - loss: 0.0123 - acc: 0.9961 - val_loss: 0.1326 - val_acc: 0.9844\n",
      "Epoch 7/35\n",
      "78/78 [==============================] - 1s 14ms/step - loss: 0.0090 - acc: 0.9969 - val_loss: 0.1029 - val_acc: 0.9823\n",
      "Epoch 8/35\n",
      "78/78 [==============================] - 1s 15ms/step - loss: 0.0116 - acc: 0.9964 - val_loss: 0.1061 - val_acc: 0.9771\n",
      "Epoch 9/35\n",
      "78/78 [==============================] - 1s 14ms/step - loss: 0.0107 - acc: 0.9974 - val_loss: 0.1051 - val_acc: 0.9750\n",
      "Epoch 10/35\n",
      "78/78 [==============================] - 1s 15ms/step - loss: 0.0078 - acc: 0.9975 - val_loss: 0.1167 - val_acc: 0.9771\n",
      "Epoch 11/35\n",
      "78/78 [==============================] - 1s 16ms/step - loss: 0.0098 - acc: 0.9967 - val_loss: 0.1157 - val_acc: 0.9750\n",
      "Epoch 12/35\n",
      "78/78 [==============================] - 1s 14ms/step - loss: 0.0147 - acc: 0.9948 - val_loss: 0.1232 - val_acc: 0.9781\n",
      "Epoch 13/35\n",
      "78/78 [==============================] - 1s 15ms/step - loss: 0.0110 - acc: 0.9962 - val_loss: 0.1372 - val_acc: 0.9813\n",
      "Epoch 14/35\n",
      "78/78 [==============================] - 1s 14ms/step - loss: 0.0118 - acc: 0.9968 - val_loss: 0.1222 - val_acc: 0.9625\n",
      "Epoch 15/35\n",
      "78/78 [==============================] - 1s 14ms/step - loss: 0.0133 - acc: 0.9950 - val_loss: 0.1544 - val_acc: 0.9813\n",
      "Epoch 16/35\n",
      "78/78 [==============================] - 1s 14ms/step - loss: 0.0163 - acc: 0.9966 - val_loss: 0.1233 - val_acc: 0.9802\n",
      "Epoch 17/35\n",
      "78/78 [==============================] - 1s 16ms/step - loss: 0.0102 - acc: 0.9974 - val_loss: 0.1077 - val_acc: 0.9813\n",
      "Epoch 18/35\n",
      "78/78 [==============================] - 1s 16ms/step - loss: 0.0052 - acc: 0.9987 - val_loss: 0.1272 - val_acc: 0.9813\n",
      "Epoch 19/35\n",
      "78/78 [==============================] - 1s 16ms/step - loss: 0.0035 - acc: 0.9987 - val_loss: 0.1245 - val_acc: 0.9823\n",
      "Epoch 20/35\n",
      "78/78 [==============================] - 1s 14ms/step - loss: 0.0075 - acc: 0.9976 - val_loss: 0.4241 - val_acc: 0.9792\n",
      "Epoch 21/35\n",
      "78/78 [==============================] - 1s 15ms/step - loss: 0.0207 - acc: 0.9979 - val_loss: 0.1229 - val_acc: 0.9813\n",
      "Epoch 22/35\n",
      "78/78 [==============================] - 1s 14ms/step - loss: 0.0043 - acc: 0.9985 - val_loss: 0.1561 - val_acc: 0.9781\n",
      "Epoch 23/35\n",
      "78/78 [==============================] - 1s 17ms/step - loss: 0.0067 - acc: 0.9986 - val_loss: 0.1460 - val_acc: 0.9823\n",
      "Epoch 24/35\n",
      "78/78 [==============================] - 2s 19ms/step - loss: 0.0086 - acc: 0.9987 - val_loss: 0.1351 - val_acc: 0.9834\n",
      "Epoch 25/35\n",
      "78/78 [==============================] - 1s 16ms/step - loss: 0.0095 - acc: 0.9969 - val_loss: 0.1619 - val_acc: 0.9823\n",
      "Epoch 26/35\n",
      "78/78 [==============================] - 1s 15ms/step - loss: 0.0044 - acc: 0.9990 - val_loss: 0.1301 - val_acc: 0.9781\n",
      "Epoch 27/35\n",
      "78/78 [==============================] - 1s 16ms/step - loss: 0.0087 - acc: 0.9975 - val_loss: 0.1211 - val_acc: 0.9792\n",
      "Epoch 28/35\n",
      "78/78 [==============================] - 1s 19ms/step - loss: 0.0067 - acc: 0.9981 - val_loss: 0.1433 - val_acc: 0.9802\n",
      "Epoch 29/35\n",
      "78/78 [==============================] - 1s 17ms/step - loss: 0.0086 - acc: 0.9987 - val_loss: 0.2250 - val_acc: 0.9844\n",
      "Epoch 30/35\n",
      "78/78 [==============================] - 1s 17ms/step - loss: 0.0053 - acc: 0.9981 - val_loss: 0.1640 - val_acc: 0.9813\n",
      "Epoch 31/35\n",
      "78/78 [==============================] - 1s 16ms/step - loss: 0.0072 - acc: 0.9974 - val_loss: 0.1552 - val_acc: 0.9802\n",
      "Epoch 32/35\n",
      "78/78 [==============================] - 1s 15ms/step - loss: 0.0084 - acc: 0.9977 - val_loss: 0.1773 - val_acc: 0.9813\n",
      "Epoch 33/35\n",
      "78/78 [==============================] - 1s 16ms/step - loss: 0.0048 - acc: 0.9986 - val_loss: 0.1770 - val_acc: 0.9823\n",
      "Epoch 34/35\n",
      "78/78 [==============================] - 1s 15ms/step - loss: 0.0011 - acc: 0.9998 - val_loss: 0.1823 - val_acc: 0.9792\n",
      "Epoch 35/35\n",
      "78/78 [==============================] - 1s 15ms/step - loss: 0.0024 - acc: 0.9993 - val_loss: 0.1802 - val_acc: 0.9823\n"
     ]
    }
   ],
   "source": [
    "# Display model\n",
    "model.summary()\n",
    "\n",
    "# Add training parameters to model\n",
    "model.compile(loss='binary_crossentropy', \n",
    "              optimizer='rmsprop', \n",
    "              metrics=['acc'])\n",
    "\n",
    "# Train\n",
    "history = model.fit(x_train, \n",
    "                    y_train, \n",
    "                    epochs=35, \n",
    "                    batch_size=100, \n",
    "                    validation_data=(x_val, y_val))"
   ]
  },
  {
   "cell_type": "code",
   "execution_count": 30,
   "id": "67a28291",
   "metadata": {},
   "outputs": [
    {
     "data": {
      "image/png": "[encoded data removed]",
      "text/plain": [
       "<Figure size 432x288 with 1 Axes>"
      ]
     },
     "metadata": {
      "needs_background": "light"
     },
     "output_type": "display_data"
    },
    {
     "data": {
      "image/png": "[encoded data removed]",
      "text/plain": [
       "<Figure size 432x288 with 1 Axes>"
      ]
     },
     "metadata": {
      "needs_background": "light"
     },
     "output_type": "display_data"
    }
   ],
   "source": [
    "# Plot results\n",
    "import matplotlib.pyplot as plt\n",
    "\n",
    "acc = history.history['acc']\n",
    "val_acc = history.history['val_acc']\n",
    "loss = history.history['loss']\n",
    "val_loss = history.history['val_loss']\n",
    "\n",
    "epochs = range(1, len(acc) + 1)\n",
    "\n",
    "plt.plot(epochs, acc, 'bo', label='Training acc')\n",
    "plt.plot(epochs, val_acc, 'b', label='Validation acc')\n",
    "plt.title('Training and validation accuracy')\n",
    "plt.legend()\n",
    "\n",
    "plt.figure()\n",
    "\n",
    "plt.plot(epochs, loss, 'bo', label='Training loss')\n",
    "plt.plot(epochs, val_loss, 'b', label='Validation loss')\n",
    "plt.title('Training and validation loss')\n",
    "plt.legend()\n",
    "\n",
    "plt.show()"
   ]
  },
  {
   "cell_type": "code",
   "execution_count": 40,
   "id": "01d996da",
   "metadata": {},
   "outputs": [
    {
     "name": "stdout",
     "output_type": "stream",
     "text": [
      "INFO:tensorflow:Assets written to: wake_word.model/assets\n"
     ]
    }
   ],
   "source": [
    "# Save the model as a file\n",
    "models.save_model(model, model_filename)\n",
    "models.save_model(model, \"wake_word.model\")"
   ]
  },
  {
   "cell_type": "code",
   "execution_count": 39,
   "id": "39bfc80c",
   "metadata": {},
   "outputs": [
    {
     "name": "stdout",
     "output_type": "stream",
     "text": [
      "0\n",
      "7\n",
      "114\n",
      "154\n",
      "158\n",
      "179\n",
      "286\n",
      "294\n",
      "380\n",
      "393\n",
      "408\n",
      "418\n",
      "519\n",
      "544\n",
      "580\n",
      "590\n",
      "629\n",
      "682\n",
      "730\n",
      "807\n",
      "810\n",
      "826\n",
      "832\n",
      "876\n",
      "888\n",
      "926\n",
      "935\n"
     ]
    }
   ],
   "source": [
    "# See which are 'stop'\n",
    "for idx, y in enumerate(y_test):\n",
    "    if y == 1:\n",
    "        print(idx)"
   ]
  },
  {
   "cell_type": "code",
   "execution_count": 92,
   "id": "801240d8",
   "metadata": {},
   "outputs": [
    {
     "name": "stdout",
     "output_type": "stream",
     "text": [
      "WARNING:tensorflow:6 out of the last 13 calls to <function Model.make_predict_function.<locals>.predict_function at 0x7f801d6b8b80> triggered tf.function retracing. Tracing is expensive and the excessive number of tracings could be due to (1) creating @tf.function repeatedly in a loop, (2) passing tensors with different shapes, (3) passing Python objects instead of tensors. For (1), please define your @tf.function outside of the loop. For (2), @tf.function has experimental_relax_shapes=True option that relaxes argument shapes that can avoid unnecessary retracing. For (3), please refer to https://www.tensorflow.org/guide/function#controlling_retracing and https://www.tensorflow.org/api_docs/python/tf/function for  more details.\n",
      "Predictions :  6.1632613e-25\n"
     ]
    }
   ],
   "source": [
    "# TEST: Load model and run it against test set\n",
    "model = models.load_model(model_filename)\n",
    "\n",
    "sample_shapes = x_test[2]\n",
    "prediction = model.predict(np.expand_dims(sample_shapes, 0))\n",
    "print(\"Predictions : \", prediction[0][0])\n",
    "#for i in range(110, 118):\n",
    "#    print(x_test[i].shape)\n",
    "#    prediction = model.predict(np.expand_dims(x_test[i], 0))\n",
    "#    print('Answer:', y_test[i], ' Prediction:', prediction)"
   ]
  },
  {
   "cell_type": "code",
   "execution_count": 54,
   "id": "a7061355",
   "metadata": {},
   "outputs": [
    {
     "name": "stdout",
     "output_type": "stream",
     "text": [
      "31/31 [==============================] - 0s 3ms/step - loss: 0.1394 - acc: 0.9877\n"
     ]
    },
    {
     "data": {
      "text/plain": [
       "[0.1393614560365677, 0.9876922965049744]"
      ]
     },
     "execution_count": 54,
     "metadata": {},
     "output_type": "execute_result"
    }
   ],
   "source": [
    "# Evaluate model with test set\n",
    "model.evaluate(x=x_test, y=y_test)"
   ]
  },
  {
   "cell_type": "code",
   "execution_count": 59,
   "id": "943dec7c",
   "metadata": {},
   "outputs": [
    {
     "data": {
      "text/plain": [
       "<tensorflow.python.keras.engine.sequential.Sequential at 0x7f7ffc12d5e0>"
      ]
     },
     "execution_count": 59,
     "metadata": {},
     "output_type": "execute_result"
    }
   ],
   "source": []
  },
  {
   "cell_type": "code",
   "execution_count": null,
   "id": "112fa78d",
   "metadata": {},
   "outputs": [],
   "source": []
  }
 ],
 "metadata": {
  "kernelspec": {
   "display_name": "Python 3",
   "language": "python",
   "name": "python3"
  },
  "language_info": {
   "codemirror_mode": {
    "name": "ipython",
    "version": 3
   },
   "file_extension": ".py",
   "mimetype": "text/x-python",
   "name": "python",
   "nbconvert_exporter": "python",
   "pygments_lexer": "ipython3",
   "version": "3.8.5"
  }
 },
 "nbformat": 4,
 "nbformat_minor": 5
}
