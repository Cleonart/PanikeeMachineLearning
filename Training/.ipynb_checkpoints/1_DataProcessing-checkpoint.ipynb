{
 "cells": [
  {
   "cell_type": "code",
   "execution_count": 30,
   "id": "5d7d79c8",
   "metadata": {},
   "outputs": [],
   "source": [
    "# Import Dependencies\n",
    "from os import listdir\n",
    "from os.path import isdir, join\n",
    "import librosa\n",
    "import random\n",
    "import numpy as np\n",
    "import matplotlib.pyplot as plt\n",
    "import python_speech_features\n",
    "import tensorflow as tf\n",
    "from tensorflow import keras\n",
    "from tqdm import tqdm"
   ]
  },
  {
   "cell_type": "code",
   "execution_count": 31,
   "id": "fd7cac29",
   "metadata": {},
   "outputs": [],
   "source": [
    "# Settings\n",
    "targetList = targets\n",
    "featureSetsFile = \"all_targets_mfcc_sets.npz\"\n",
    "sampleToWorkOn  = 0.1\n",
    "validationSize  = 0.1\n",
    "testSize        = 0.1\n",
    "sampleRate      = 8000\n",
    "numMFCC         = 16\n",
    "lenMFCC         = 16   # Length of max MFCC, following the duration of WAV length in seconds"
   ]
  },
  {
   "cell_type": "code",
   "execution_count": 32,
   "id": "4b0bfd8f",
   "metadata": {},
   "outputs": [
    {
     "name": "stderr",
     "output_type": "stream",
     "text": [
      "100%|██████████| 37/37 [00:00<00:00, 95855.00it/s]\n"
     ]
    }
   ],
   "source": [
    "dataset_path = \"../../Dataset/speech_data\"\n",
    "for index, name in enumerate(tqdm(listdir(dataset_path))):\n",
    "    pass"
   ]
  },
  {
   "cell_type": "code",
   "execution_count": 33,
   "id": "00340209",
   "metadata": {},
   "outputs": [
    {
     "name": "stdout",
     "output_type": "stream",
     "text": [
      "Total sample : 105831\n"
     ]
    }
   ],
   "source": [
    "# Create an all target list\n",
    "targets = [name for name in listdir(dataset_path) if isdir(join(dataset_path, name))]\n",
    "\n",
    "# Truncated Background Noise\n",
    "targets.remove(\"_background_noise_\")\n",
    "\n",
    "# Check sample for each dataset\n",
    "totalSample = 0\n",
    "for target in targets:\n",
    "    sample = len(listdir(join(dataset_path, target)))\n",
    "    totalSample += sample\n",
    "    \n",
    "print(\"Total sample : {}\".format(totalSample))"
   ]
  },
  {
   "cell_type": "code",
   "execution_count": 24,
   "id": "764315d2",
   "metadata": {},
   "outputs": [],
   "source": [
    "# Create list of filenames with ground truth of y\n",
    "# Examples for filenames c1d39ce8_nohash_1.wav is in folder dog\n",
    "# DOG is in index 0\n",
    "# so the file name c1d39ce8_nohash_1.wav is identified by dog with label 0\n",
    "filenames = []\n",
    "y = []\n",
    "\n",
    "for index, target in enumerate(targetList):\n",
    "    filenames.append(listdir(join(dataset_path, target)))\n",
    "    sampleNum = len(filenames[index])\n",
    "    y.append(np.ones(sampleNum) * index)"
   ]
  },
  {
   "cell_type": "code",
   "execution_count": 25,
   "id": "7b52a982",
   "metadata": {},
   "outputs": [
    {
     "name": "stdout",
     "output_type": "stream",
     "text": [
      "[array([0., 0., 0., ..., 0., 0., 0.]), array([1., 1., 1., ..., 1., 1., 1.]), array([2., 2.]), array([3., 3., 3., ..., 3., 3., 3.]), array([4., 4., 4., ..., 4., 4., 4.]), array([5., 5., 5., ..., 5., 5., 5.]), array([6., 6., 6., ..., 6., 6., 6.]), array([7., 7., 7., ..., 7., 7., 7.]), array([8., 8., 8., ..., 8., 8., 8.]), array([9., 9., 9., ..., 9., 9., 9.]), array([10., 10., 10., ..., 10., 10., 10.]), array([11., 11., 11., ..., 11., 11., 11.]), array([12., 12., 12., ..., 12., 12., 12.]), array([13., 13., 13., ..., 13., 13., 13.]), array([14., 14., 14., ..., 14., 14., 14.]), array([15., 15., 15., ..., 15., 15., 15.]), array([16., 16., 16., ..., 16., 16., 16.]), array([17., 17., 17., ..., 17., 17., 17.]), array([18., 18., 18., ..., 18., 18., 18.]), array([19., 19., 19., ..., 19., 19., 19.]), array([20., 20., 20., ..., 20., 20., 20.]), array([21., 21., 21., ..., 21., 21., 21.]), array([22., 22., 22., ..., 22., 22., 22.]), array([23., 23., 23., ..., 23., 23., 23.]), array([24., 24., 24., ..., 24., 24., 24.]), array([25., 25., 25., ..., 25., 25., 25.]), array([26., 26., 26., ..., 26., 26., 26.]), array([27., 27., 27., ..., 27., 27., 27.]), array([28., 28., 28., ..., 28., 28., 28.]), array([29., 29., 29., ..., 29., 29., 29.]), array([30., 30., 30., ..., 30., 30., 30.]), array([31., 31., 31., ..., 31., 31., 31.]), array([32., 32., 32., ..., 32., 32., 32.]), array([33., 33., 33., ..., 33., 33., 33.]), array([34., 34., 34., ..., 34., 34., 34.]), array([35., 35., 35., ..., 35., 35., 35.])]\n",
      "2128\n",
      "3778\n",
      "2\n",
      "1575\n",
      "1664\n",
      "1592\n",
      "2022\n",
      "2014\n",
      "3728\n",
      "2054\n",
      "4044\n",
      "2113\n",
      "3787\n",
      "3727\n",
      "1579\n",
      "3934\n",
      "2064\n",
      "3880\n",
      "3872\n",
      "2123\n",
      "4052\n",
      "3845\n",
      "3745\n",
      "3723\n",
      "2100\n",
      "3941\n",
      "3860\n",
      "1557\n",
      "2031\n",
      "3801\n",
      "3880\n",
      "1759\n",
      "3998\n",
      "3917\n",
      "3890\n",
      "4052\n",
      "Total : 105831\n"
     ]
    }
   ],
   "source": [
    "# Check ground truth y vector\n",
    "print(y)\n",
    "sampleTotal = 0\n",
    "for item in y:\n",
    "    sampleNum   = len(item)\n",
    "    sampleTotal += sampleNum\n",
    "    print(sampleNum)\n",
    "print(\"Total : {}\".format(sampleTotal))"
   ]
  },
  {
   "cell_type": "code",
   "execution_count": 26,
   "id": "e5e517a4",
   "metadata": {},
   "outputs": [],
   "source": [
    "# Convert the 2d array to 1d array\n",
    "filenames = [item for sublist in filenames for item in sublist]\n",
    "y = [item for sublist in y for item in sublist]"
   ]
  },
  {
   "cell_type": "code",
   "execution_count": 27,
   "id": "f935d39f",
   "metadata": {},
   "outputs": [],
   "source": [
    "# Associate filenames with true output and shuffle\n",
    "filenamesY = list(zip(filenames, y))\n",
    "random.shuffle(filenamesY)\n",
    "filenames, y = zip(*filenamesY)"
   ]
  },
  {
   "cell_type": "code",
   "execution_count": 28,
   "id": "982f408a",
   "metadata": {},
   "outputs": [
    {
     "name": "stdout",
     "output_type": "stream",
     "text": [
      "105831\n",
      "10583\n"
     ]
    }
   ],
   "source": [
    "# Only keep the specified number of samples \n",
    "print(len(filenames))\n",
    "filenames = filenames[:int(len(filenames) * sampleToWorkOn)]\n",
    "print(len(filenames))"
   ]
  },
  {
   "cell_type": "code",
   "execution_count": 29,
   "id": "314b0066",
   "metadata": {},
   "outputs": [],
   "source": [
    "# Calculate Validation and Test Set Ratio size\n",
    "sizeOfValidation = int(len(filenames) * validationSize)\n",
    "sizeOfTest       = int(len(filenames) * testSize)\n",
    "\n",
    "# Break the Training, Validation, and Test Dataset\n",
    "filenamesValidation = filenames[:sizeOfValidation]\n",
    "filenamesTest       = filenames[sizeOfValidation:(sizeOfValidation + sizeOfTest)]\n",
    "filenamesTrain      = filenames[(sizeOfValidation + sizeOfTest):]\n",
    "\n",
    "yValidation = y[:sizeOfValidation]\n",
    "yTest       = y[sizeOfValidation:(sizeOfValidation + sizeOfTest)]\n",
    "yTrain      = y[(sizeOfValidation + sizeOfTest):]"
   ]
  },
  {
   "cell_type": "code",
   "execution_count": 12,
   "id": "686d57cf",
   "metadata": {},
   "outputs": [],
   "source": [
    "# Function : Create MFCC from path\n",
    "def calcMFCC(path):\n",
    "    \n",
    "    # Load Wavefile\n",
    "    signal, fs = librosa.load(path, sr = sampleRate)\n",
    "    \n",
    "    # Create MFCCs from sound clip\n",
    "    mfccs = python_speech_features.base.mfcc(signal,\n",
    "                                             samplerate=fs,\n",
    "                                             winlen=0.256,\n",
    "                                             winstep=0.050,\n",
    "                                             numcep=numMFCC,\n",
    "                                             nfilt = 26,\n",
    "                                             nfft  = 2048,\n",
    "                                             preemph=0.0,\n",
    "                                             ceplifter=0,\n",
    "                                             appendEnergy=False,\n",
    "                                             winfunc=np.hanning)\n",
    "    return mfccs.transpose()"
   ]
  },
  {
   "cell_type": "code",
   "execution_count": 13,
   "id": "0d855d74",
   "metadata": {},
   "outputs": [
    {
     "name": "stdout",
     "output_type": "stream",
     "text": [
      "Dropped :  20 (16, 11)\n",
      "Dropped :  41 (16, 12)\n",
      "Dropped :  56 (16, 15)\n",
      "Dropped :  90 (16, 15)\n",
      "Dropped :  94 (16, 12)\n",
      "Dropped :  100 (16, 15)\n",
      "Dropped :  109 (16, 7)\n",
      "Dropped :  113 (16, 15)\n",
      "Dropped :  116 (16, 12)\n",
      "Dropped :  124 (16, 8)\n",
      "Dropped :  127 (16, 15)\n",
      "Dropped :  140 (16, 9)\n"
     ]
    },
    {
     "ename": "KeyboardInterrupt",
     "evalue": "",
     "output_type": "error",
     "traceback": [
      "\u001b[0;31m---------------------------------------------------------------------------\u001b[0m",
      "\u001b[0;31mKeyboardInterrupt\u001b[0m                         Traceback (most recent call last)",
      "\u001b[0;32m<ipython-input-13-29691584dca2>\u001b[0m in \u001b[0;36m<module>\u001b[0;34m\u001b[0m\n\u001b[1;32m     14\u001b[0m \u001b[0;34m\u001b[0m\u001b[0m\n\u001b[1;32m     15\u001b[0m     \u001b[0;31m# Create MFCCS\u001b[0m\u001b[0;34m\u001b[0m\u001b[0;34m\u001b[0m\u001b[0;34m\u001b[0m\u001b[0m\n\u001b[0;32m---> 16\u001b[0;31m     \u001b[0mmfccs\u001b[0m \u001b[0;34m=\u001b[0m \u001b[0mcalcMFCC\u001b[0m\u001b[0;34m(\u001b[0m\u001b[0mpath\u001b[0m\u001b[0;34m)\u001b[0m\u001b[0;34m\u001b[0m\u001b[0;34m\u001b[0m\u001b[0m\n\u001b[0m\u001b[1;32m     17\u001b[0m \u001b[0;34m\u001b[0m\u001b[0m\n\u001b[1;32m     18\u001b[0m     \u001b[0;32mif\u001b[0m \u001b[0mmfccs\u001b[0m\u001b[0;34m.\u001b[0m\u001b[0mshape\u001b[0m\u001b[0;34m[\u001b[0m\u001b[0;36m1\u001b[0m\u001b[0;34m]\u001b[0m \u001b[0;34m==\u001b[0m \u001b[0mlenMFCC\u001b[0m\u001b[0;34m:\u001b[0m\u001b[0;34m\u001b[0m\u001b[0;34m\u001b[0m\u001b[0m\n",
      "\u001b[0;32m<ipython-input-12-360b61b4a19c>\u001b[0m in \u001b[0;36mcalcMFCC\u001b[0;34m(path)\u001b[0m\n\u001b[1;32m      6\u001b[0m \u001b[0;34m\u001b[0m\u001b[0m\n\u001b[1;32m      7\u001b[0m     \u001b[0;31m# Create MFCCs from sound clip\u001b[0m\u001b[0;34m\u001b[0m\u001b[0;34m\u001b[0m\u001b[0;34m\u001b[0m\u001b[0m\n\u001b[0;32m----> 8\u001b[0;31m     mfccs = python_speech_features.base.mfcc(signal,\n\u001b[0m\u001b[1;32m      9\u001b[0m                                              \u001b[0msamplerate\u001b[0m\u001b[0;34m=\u001b[0m\u001b[0mfs\u001b[0m\u001b[0;34m,\u001b[0m\u001b[0;34m\u001b[0m\u001b[0;34m\u001b[0m\u001b[0m\n\u001b[1;32m     10\u001b[0m                                              \u001b[0mwinlen\u001b[0m\u001b[0;34m=\u001b[0m\u001b[0;36m0.256\u001b[0m\u001b[0;34m,\u001b[0m\u001b[0;34m\u001b[0m\u001b[0;34m\u001b[0m\u001b[0m\n",
      "\u001b[0;32m~/.local/lib/python3.8/site-packages/python_speech_features/base.py\u001b[0m in \u001b[0;36mmfcc\u001b[0;34m(signal, samplerate, winlen, winstep, numcep, nfilt, nfft, lowfreq, highfreq, preemph, ceplifter, appendEnergy, winfunc)\u001b[0m\n\u001b[1;32m     26\u001b[0m     \u001b[0;34m:\u001b[0m\u001b[0mreturns\u001b[0m\u001b[0;34m:\u001b[0m \u001b[0mA\u001b[0m \u001b[0mnumpy\u001b[0m \u001b[0marray\u001b[0m \u001b[0mof\u001b[0m \u001b[0msize\u001b[0m \u001b[0;34m(\u001b[0m\u001b[0mNUMFRAMES\u001b[0m \u001b[0mby\u001b[0m \u001b[0mnumcep\u001b[0m\u001b[0;34m)\u001b[0m \u001b[0mcontaining\u001b[0m \u001b[0mfeatures\u001b[0m\u001b[0;34m.\u001b[0m \u001b[0mEach\u001b[0m \u001b[0mrow\u001b[0m \u001b[0mholds\u001b[0m \u001b[0;36m1\u001b[0m \u001b[0mfeature\u001b[0m \u001b[0mvector\u001b[0m\u001b[0;34m.\u001b[0m\u001b[0;34m\u001b[0m\u001b[0;34m\u001b[0m\u001b[0m\n\u001b[1;32m     27\u001b[0m     \"\"\"\n\u001b[0;32m---> 28\u001b[0;31m     \u001b[0mfeat\u001b[0m\u001b[0;34m,\u001b[0m\u001b[0menergy\u001b[0m \u001b[0;34m=\u001b[0m \u001b[0mfbank\u001b[0m\u001b[0;34m(\u001b[0m\u001b[0msignal\u001b[0m\u001b[0;34m,\u001b[0m\u001b[0msamplerate\u001b[0m\u001b[0;34m,\u001b[0m\u001b[0mwinlen\u001b[0m\u001b[0;34m,\u001b[0m\u001b[0mwinstep\u001b[0m\u001b[0;34m,\u001b[0m\u001b[0mnfilt\u001b[0m\u001b[0;34m,\u001b[0m\u001b[0mnfft\u001b[0m\u001b[0;34m,\u001b[0m\u001b[0mlowfreq\u001b[0m\u001b[0;34m,\u001b[0m\u001b[0mhighfreq\u001b[0m\u001b[0;34m,\u001b[0m\u001b[0mpreemph\u001b[0m\u001b[0;34m,\u001b[0m\u001b[0mwinfunc\u001b[0m\u001b[0;34m)\u001b[0m\u001b[0;34m\u001b[0m\u001b[0;34m\u001b[0m\u001b[0m\n\u001b[0m\u001b[1;32m     29\u001b[0m     \u001b[0mfeat\u001b[0m \u001b[0;34m=\u001b[0m \u001b[0mnumpy\u001b[0m\u001b[0;34m.\u001b[0m\u001b[0mlog\u001b[0m\u001b[0;34m(\u001b[0m\u001b[0mfeat\u001b[0m\u001b[0;34m)\u001b[0m\u001b[0;34m\u001b[0m\u001b[0;34m\u001b[0m\u001b[0m\n\u001b[1;32m     30\u001b[0m     \u001b[0mfeat\u001b[0m \u001b[0;34m=\u001b[0m \u001b[0mdct\u001b[0m\u001b[0;34m(\u001b[0m\u001b[0mfeat\u001b[0m\u001b[0;34m,\u001b[0m \u001b[0mtype\u001b[0m\u001b[0;34m=\u001b[0m\u001b[0;36m2\u001b[0m\u001b[0;34m,\u001b[0m \u001b[0maxis\u001b[0m\u001b[0;34m=\u001b[0m\u001b[0;36m1\u001b[0m\u001b[0;34m,\u001b[0m \u001b[0mnorm\u001b[0m\u001b[0;34m=\u001b[0m\u001b[0;34m'ortho'\u001b[0m\u001b[0;34m)\u001b[0m\u001b[0;34m[\u001b[0m\u001b[0;34m:\u001b[0m\u001b[0;34m,\u001b[0m\u001b[0;34m:\u001b[0m\u001b[0mnumcep\u001b[0m\u001b[0;34m]\u001b[0m\u001b[0;34m\u001b[0m\u001b[0;34m\u001b[0m\u001b[0m\n",
      "\u001b[0;32m~/.local/lib/python3.8/site-packages/python_speech_features/base.py\u001b[0m in \u001b[0;36mfbank\u001b[0;34m(signal, samplerate, winlen, winstep, nfilt, nfft, lowfreq, highfreq, preemph, winfunc)\u001b[0m\n\u001b[1;32m     54\u001b[0m     \u001b[0msignal\u001b[0m \u001b[0;34m=\u001b[0m \u001b[0msigproc\u001b[0m\u001b[0;34m.\u001b[0m\u001b[0mpreemphasis\u001b[0m\u001b[0;34m(\u001b[0m\u001b[0msignal\u001b[0m\u001b[0;34m,\u001b[0m\u001b[0mpreemph\u001b[0m\u001b[0;34m)\u001b[0m\u001b[0;34m\u001b[0m\u001b[0;34m\u001b[0m\u001b[0m\n\u001b[1;32m     55\u001b[0m     \u001b[0mframes\u001b[0m \u001b[0;34m=\u001b[0m \u001b[0msigproc\u001b[0m\u001b[0;34m.\u001b[0m\u001b[0mframesig\u001b[0m\u001b[0;34m(\u001b[0m\u001b[0msignal\u001b[0m\u001b[0;34m,\u001b[0m \u001b[0mwinlen\u001b[0m\u001b[0;34m*\u001b[0m\u001b[0msamplerate\u001b[0m\u001b[0;34m,\u001b[0m \u001b[0mwinstep\u001b[0m\u001b[0;34m*\u001b[0m\u001b[0msamplerate\u001b[0m\u001b[0;34m,\u001b[0m \u001b[0mwinfunc\u001b[0m\u001b[0;34m)\u001b[0m\u001b[0;34m\u001b[0m\u001b[0;34m\u001b[0m\u001b[0m\n\u001b[0;32m---> 56\u001b[0;31m     \u001b[0mpspec\u001b[0m \u001b[0;34m=\u001b[0m \u001b[0msigproc\u001b[0m\u001b[0;34m.\u001b[0m\u001b[0mpowspec\u001b[0m\u001b[0;34m(\u001b[0m\u001b[0mframes\u001b[0m\u001b[0;34m,\u001b[0m\u001b[0mnfft\u001b[0m\u001b[0;34m)\u001b[0m\u001b[0;34m\u001b[0m\u001b[0;34m\u001b[0m\u001b[0m\n\u001b[0m\u001b[1;32m     57\u001b[0m     \u001b[0menergy\u001b[0m \u001b[0;34m=\u001b[0m \u001b[0mnumpy\u001b[0m\u001b[0;34m.\u001b[0m\u001b[0msum\u001b[0m\u001b[0;34m(\u001b[0m\u001b[0mpspec\u001b[0m\u001b[0;34m,\u001b[0m\u001b[0;36m1\u001b[0m\u001b[0;34m)\u001b[0m \u001b[0;31m# this stores the total energy in each frame\u001b[0m\u001b[0;34m\u001b[0m\u001b[0;34m\u001b[0m\u001b[0m\n\u001b[1;32m     58\u001b[0m     \u001b[0menergy\u001b[0m \u001b[0;34m=\u001b[0m \u001b[0mnumpy\u001b[0m\u001b[0;34m.\u001b[0m\u001b[0mwhere\u001b[0m\u001b[0;34m(\u001b[0m\u001b[0menergy\u001b[0m \u001b[0;34m==\u001b[0m \u001b[0;36m0\u001b[0m\u001b[0;34m,\u001b[0m\u001b[0mnumpy\u001b[0m\u001b[0;34m.\u001b[0m\u001b[0mfinfo\u001b[0m\u001b[0;34m(\u001b[0m\u001b[0mfloat\u001b[0m\u001b[0;34m)\u001b[0m\u001b[0;34m.\u001b[0m\u001b[0meps\u001b[0m\u001b[0;34m,\u001b[0m\u001b[0menergy\u001b[0m\u001b[0;34m)\u001b[0m \u001b[0;31m# if energy is zero, we get problems with log\u001b[0m\u001b[0;34m\u001b[0m\u001b[0;34m\u001b[0m\u001b[0m\n",
      "\u001b[0;32m~/.local/lib/python3.8/site-packages/python_speech_features/sigproc.py\u001b[0m in \u001b[0;36mpowspec\u001b[0;34m(frames, NFFT)\u001b[0m\n\u001b[1;32m     91\u001b[0m     \u001b[0;34m:\u001b[0m\u001b[0mreturns\u001b[0m\u001b[0;34m:\u001b[0m \u001b[0mIf\u001b[0m \u001b[0mframes\u001b[0m \u001b[0;32mis\u001b[0m \u001b[0man\u001b[0m \u001b[0mNxD\u001b[0m \u001b[0mmatrix\u001b[0m\u001b[0;34m,\u001b[0m \u001b[0moutput\u001b[0m \u001b[0mwill\u001b[0m \u001b[0mbe\u001b[0m \u001b[0mNx\u001b[0m\u001b[0;34m(\u001b[0m\u001b[0mNFFT\u001b[0m\u001b[0;34m/\u001b[0m\u001b[0;36m2\u001b[0m\u001b[0;34m+\u001b[0m\u001b[0;36m1\u001b[0m\u001b[0;34m)\u001b[0m\u001b[0;34m.\u001b[0m \u001b[0mEach\u001b[0m \u001b[0mrow\u001b[0m \u001b[0mwill\u001b[0m \u001b[0mbe\u001b[0m \u001b[0mthe\u001b[0m \u001b[0mpower\u001b[0m \u001b[0mspectrum\u001b[0m \u001b[0mof\u001b[0m \u001b[0mthe\u001b[0m \u001b[0mcorresponding\u001b[0m \u001b[0mframe\u001b[0m\u001b[0;34m.\u001b[0m\u001b[0;34m\u001b[0m\u001b[0;34m\u001b[0m\u001b[0m\n\u001b[1;32m     92\u001b[0m     \"\"\"\n\u001b[0;32m---> 93\u001b[0;31m     \u001b[0;32mreturn\u001b[0m \u001b[0;36m1.0\u001b[0m\u001b[0;34m/\u001b[0m\u001b[0mNFFT\u001b[0m \u001b[0;34m*\u001b[0m \u001b[0mnumpy\u001b[0m\u001b[0;34m.\u001b[0m\u001b[0msquare\u001b[0m\u001b[0;34m(\u001b[0m\u001b[0mmagspec\u001b[0m\u001b[0;34m(\u001b[0m\u001b[0mframes\u001b[0m\u001b[0;34m,\u001b[0m\u001b[0mNFFT\u001b[0m\u001b[0;34m)\u001b[0m\u001b[0;34m)\u001b[0m\u001b[0;34m\u001b[0m\u001b[0;34m\u001b[0m\u001b[0m\n\u001b[0m\u001b[1;32m     94\u001b[0m \u001b[0;34m\u001b[0m\u001b[0m\n\u001b[1;32m     95\u001b[0m \u001b[0;32mdef\u001b[0m \u001b[0mlogpowspec\u001b[0m\u001b[0;34m(\u001b[0m\u001b[0mframes\u001b[0m\u001b[0;34m,\u001b[0m\u001b[0mNFFT\u001b[0m\u001b[0;34m,\u001b[0m\u001b[0mnorm\u001b[0m\u001b[0;34m=\u001b[0m\u001b[0;36m1\u001b[0m\u001b[0;34m)\u001b[0m\u001b[0;34m:\u001b[0m\u001b[0;34m\u001b[0m\u001b[0;34m\u001b[0m\u001b[0m\n",
      "\u001b[0;32m~/.local/lib/python3.8/site-packages/python_speech_features/sigproc.py\u001b[0m in \u001b[0;36mmagspec\u001b[0;34m(frames, NFFT)\u001b[0m\n\u001b[1;32m     82\u001b[0m         \u001b[0mlogging\u001b[0m\u001b[0;34m.\u001b[0m\u001b[0mwarn\u001b[0m\u001b[0;34m(\u001b[0m\u001b[0;34m'frame length (%d) is greater than FFT size (%d), frame will be truncated. Increase NFFT to avoid.'\u001b[0m\u001b[0;34m,\u001b[0m \u001b[0mnumpy\u001b[0m\u001b[0;34m.\u001b[0m\u001b[0mshape\u001b[0m\u001b[0;34m(\u001b[0m\u001b[0mframes\u001b[0m\u001b[0;34m)\u001b[0m\u001b[0;34m[\u001b[0m\u001b[0;36m1\u001b[0m\u001b[0;34m]\u001b[0m\u001b[0;34m,\u001b[0m \u001b[0mNFFT\u001b[0m\u001b[0;34m)\u001b[0m\u001b[0;34m\u001b[0m\u001b[0;34m\u001b[0m\u001b[0m\n\u001b[1;32m     83\u001b[0m     \u001b[0mcomplex_spec\u001b[0m \u001b[0;34m=\u001b[0m \u001b[0mnumpy\u001b[0m\u001b[0;34m.\u001b[0m\u001b[0mfft\u001b[0m\u001b[0;34m.\u001b[0m\u001b[0mrfft\u001b[0m\u001b[0;34m(\u001b[0m\u001b[0mframes\u001b[0m\u001b[0;34m,\u001b[0m\u001b[0mNFFT\u001b[0m\u001b[0;34m)\u001b[0m\u001b[0;34m\u001b[0m\u001b[0;34m\u001b[0m\u001b[0m\n\u001b[0;32m---> 84\u001b[0;31m     \u001b[0;32mreturn\u001b[0m \u001b[0mnumpy\u001b[0m\u001b[0;34m.\u001b[0m\u001b[0mabsolute\u001b[0m\u001b[0;34m(\u001b[0m\u001b[0mcomplex_spec\u001b[0m\u001b[0;34m)\u001b[0m\u001b[0;34m\u001b[0m\u001b[0;34m\u001b[0m\u001b[0m\n\u001b[0m\u001b[1;32m     85\u001b[0m \u001b[0;34m\u001b[0m\u001b[0m\n\u001b[1;32m     86\u001b[0m \u001b[0;32mdef\u001b[0m \u001b[0mpowspec\u001b[0m\u001b[0;34m(\u001b[0m\u001b[0mframes\u001b[0m\u001b[0;34m,\u001b[0m\u001b[0mNFFT\u001b[0m\u001b[0;34m)\u001b[0m\u001b[0;34m:\u001b[0m\u001b[0;34m\u001b[0m\u001b[0;34m\u001b[0m\u001b[0m\n",
      "\u001b[0;31mKeyboardInterrupt\u001b[0m: "
     ]
    }
   ],
   "source": [
    "# TEST: Construct test set by computing MFCC of each wave file\n",
    "propCnt = 0\n",
    "xTest = []\n",
    "yTest = []\n",
    "\n",
    "for index, filename in enumerate(filenamesTrain):\n",
    "    \n",
    "    # Break when hit 500\n",
    "    if index >= 500:\n",
    "        break\n",
    "    \n",
    "    # Create the path from given filename and target item\n",
    "    path = join(dataset_path, targetList[int(yTrain[index])], filename)\n",
    "    \n",
    "    # Create MFCCS\n",
    "    mfccs = calcMFCC(path)\n",
    "    \n",
    "    if mfccs.shape[1] == lenMFCC:\n",
    "        xTest.append(mfccs)\n",
    "        yTest.append(yTrain[index])\n",
    "    else:\n",
    "        print(\"Dropped : \", index,mfccs.shape)\n",
    "        propCnt += 1\n",
    "    "
   ]
  },
  {
   "cell_type": "code",
   "execution_count": 124,
   "id": "e041a05a",
   "metadata": {},
   "outputs": [
    {
     "name": "stdout",
     "output_type": "stream",
     "text": [
      "% of problematic samples :  0.09\n"
     ]
    }
   ],
   "source": [
    "print(\"% of problematic samples : \", propCnt / 500)"
   ]
  },
  {
   "cell_type": "code",
   "execution_count": 31,
   "id": "8067efb9",
   "metadata": {},
   "outputs": [
    {
     "data": {
      "image/png": "[encoded data removed]",
      "text/plain": [
       "<Figure size 432x288 with 1 Axes>"
      ]
     },
     "metadata": {
      "needs_background": "light"
     },
     "output_type": "display_data"
    }
   ],
   "source": [
    "from playsound import playsound\n",
    "\n",
    "# Get the path for audio wav file\n",
    "idx = 200\n",
    "path = \"speech_data/Test/1.wav\"\n",
    "    \n",
    "def extractMFCC(path):\n",
    "    # Create the mfccs for the path\n",
    "    mfccs = calcMFCC(path)\n",
    "    #print('MFCCS : ', mfccs)\n",
    "    \n",
    "    # Show the MFCCS data\n",
    "    fig = plt.figure()\n",
    "    plt.imshow(mfccs, cmap=\"magma\", origin=\"lower\")\n",
    "    return mfccs\n",
    "\n",
    "extractMFCC(path)\n",
    "playsound(path)"
   ]
  },
  {
   "cell_type": "code",
   "execution_count": 25,
   "id": "9c1abc92",
   "metadata": {},
   "outputs": [],
   "source": [
    "from tqdm import tqdm\n",
    "\n",
    "def extractFeatures(inFiles, inY):\n",
    "    probCnt = 0\n",
    "    outputX = []\n",
    "    outputY = []\n",
    "    \n",
    "    for index, filename in (enumerate(tqdm(inFiles))):\n",
    "\n",
    "        # Create the path from given filename and target item\n",
    "        path = join(dataset_path, targetList[int(inY[index])], filename)\n",
    "    \n",
    "        # Check to make sure if it's a valid audio file\n",
    "        if not path.endswith(\".wav\"):\n",
    "            continue\n",
    "        \n",
    "        # Create MFCCS\n",
    "        mfccs = calcMFCC(path)\n",
    "\n",
    "        if mfccs.shape[1] == lenMFCC:\n",
    "            outputX.append(mfccs)\n",
    "            outputY.append(inY[index])\n",
    "            \n",
    "        else:\n",
    "            #print(\"Dropped : \", index,mfccs.shape)\n",
    "            probCnt += 1\n",
    "            \n",
    "    return outputX, outputY, probCnt"
   ]
  },
  {
   "cell_type": "code",
   "execution_count": 145,
   "id": "152db8b7",
   "metadata": {},
   "outputs": [
    {
     "name": "stderr",
     "output_type": "stream",
     "text": [
      "100%|██████████| 8466/8466 [07:36<00:00, 18.56it/s]"
     ]
    },
    {
     "name": "stdout",
     "output_type": "stream",
     "text": [
      "Removed percentage :  0.006691543008108916\n"
     ]
    },
    {
     "name": "stderr",
     "output_type": "stream",
     "text": [
      "\n"
     ]
    }
   ],
   "source": [
    "# Training\n",
    "xOutTrain, yOutTrain, prob = extractFeatures(filenamesTrain, yTrain)\n",
    "print('Removed percentage : ', prob / len(yTrain))"
   ]
  },
  {
   "cell_type": "code",
   "execution_count": 144,
   "id": "8dfbd730",
   "metadata": {},
   "outputs": [
    {
     "name": "stderr",
     "output_type": "stream",
     "text": [
      "100%|██████████| 1058/1058 [00:49<00:00, 21.34it/s]"
     ]
    },
    {
     "name": "stdout",
     "output_type": "stream",
     "text": [
      "Removed percentage :  0.09168241965973535\n"
     ]
    },
    {
     "name": "stderr",
     "output_type": "stream",
     "text": [
      "\n"
     ]
    }
   ],
   "source": [
    "# Validation\n",
    "xOutValidation, yOutValidation, prob = extractFeatures(filenamesValidation, yValidation)\n",
    "print('Removed percentage : ', prob / len(yValidation))"
   ]
  },
  {
   "cell_type": "code",
   "execution_count": 143,
   "id": "a01e3a2d",
   "metadata": {},
   "outputs": [
    {
     "name": "stderr",
     "output_type": "stream",
     "text": [
      "100%|██████████| 1058/1058 [00:48<00:00, 22.04it/s]"
     ]
    },
    {
     "name": "stdout",
     "output_type": "stream",
     "text": [
      "Removed percentage :  0.07844990548204159\n"
     ]
    },
    {
     "name": "stderr",
     "output_type": "stream",
     "text": [
      "\n"
     ]
    }
   ],
   "source": [
    "# Test\n",
    "xOutTest, yOutTest, prob = extractFeatures(filenamesTest, yTest)\n",
    "print('Removed percentage : ', prob / len(yTest))"
   ]
  },
  {
   "cell_type": "code",
   "execution_count": 146,
   "id": "20cb29e8",
   "metadata": {},
   "outputs": [],
   "source": [
    "# Save the feature and truth vector\n",
    "np.savez(featureSetsFile, \n",
    "         x_train=xOutTrain,\n",
    "         y_train=yOutTrain,\n",
    "         x_val=xOutValidation,\n",
    "         y_val=yOutValidation,\n",
    "         x_test=xOutTest,\n",
    "         y_test=yOutTest)"
   ]
  },
  {
   "cell_type": "code",
   "execution_count": 147,
   "id": "8230a007",
   "metadata": {},
   "outputs": [
    {
     "data": {
      "text/plain": [
       "['x_train', 'y_train', 'x_val', 'y_val', 'x_test', 'y_test']"
      ]
     },
     "execution_count": 147,
     "metadata": {},
     "output_type": "execute_result"
    }
   ],
   "source": [
    "featureSets = np.load(featureSetsFile)\n",
    "featureSets.files"
   ]
  },
  {
   "cell_type": "code",
   "execution_count": 148,
   "id": "15021f21",
   "metadata": {},
   "outputs": [
    {
     "data": {
      "text/plain": [
       "7772"
      ]
     },
     "execution_count": 148,
     "metadata": {},
     "output_type": "execute_result"
    }
   ],
   "source": [
    "len(featureSets['x_train'])"
   ]
  },
  {
   "cell_type": "code",
   "execution_count": 155,
   "id": "eb370030",
   "metadata": {},
   "outputs": [
    {
     "name": "stdout",
     "output_type": "stream",
     "text": [
      "[[[-4.17458482e+01 -3.93047294e+01 -2.68786438e+01 ... -5.34477490e+01\n",
      "   -6.05283479e+01 -6.25279309e+01]\n",
      "  [-3.37591255e+00 -2.44334102e+00  4.46565998e+00 ...  6.81229307e+00\n",
      "    6.54379856e+00  6.42874100e+00]\n",
      "  [ 2.05891756e+00  3.01491090e+00 -3.92676956e-02 ...  1.48047405e+00\n",
      "   -1.24862627e+00 -1.41935864e+00]\n",
      "  ...\n",
      "  [ 2.55342207e-01  1.11847654e-01 -3.20679175e-01 ...  3.53664679e-01\n",
      "    4.02843914e-01  1.31427502e-01]\n",
      "  [-5.45864431e-01 -7.43265385e-01 -9.54019518e-01 ... -1.03611589e+00\n",
      "   -1.07510357e+00 -8.63182949e-01]\n",
      "  [ 4.04283745e-01  2.95484686e-01  8.00124845e-01 ... -2.58516854e-01\n",
      "   -6.42663538e-02 -8.24964682e-02]]\n",
      "\n",
      " [[-7.66426147e+01 -6.54377562e+01 -5.64850262e+01 ... -5.84199059e+01\n",
      "   -6.73108905e+01 -7.97140154e+01]\n",
      "  [ 1.53535530e+01  2.04012387e+01  2.03034697e+01 ...  6.92673429e+00\n",
      "    8.54790662e+00  9.16755490e+00]\n",
      "  [ 4.72981162e+00  5.61854780e+00  4.68158180e+00 ...  4.74973857e+00\n",
      "    3.81453820e+00  2.29765716e+00]\n",
      "  ...\n",
      "  [-9.42945609e-01 -7.47138766e-01 -8.98731636e-01 ...  3.14384746e-01\n",
      "    6.61969151e-01  3.77263339e-01]\n",
      "  [-5.27301886e-01 -6.93722301e-01 -1.03694101e+00 ... -5.50224460e-01\n",
      "   -6.75015938e-01 -4.24266566e-01]\n",
      "  [-5.21025188e-01  2.22612122e-02  6.43247741e-02 ...  5.89389026e-01\n",
      "    8.33934429e-01  3.53152476e-01]]\n",
      "\n",
      " [[-3.40855598e+01 -2.52553011e+01 -2.15486330e+01 ... -6.89701011e+01\n",
      "   -6.86302286e+01 -6.87389224e+01]\n",
      "  [ 1.45363791e+01  1.25857337e+01  1.22626421e+01 ...  6.02962793e+00\n",
      "    6.16072113e+00  6.54109929e+00]\n",
      "  [ 8.30925200e+00  5.26356832e+00  3.47306448e+00 ...  4.95566843e-02\n",
      "    3.35195142e-01  1.92511257e-01]\n",
      "  ...\n",
      "  [-1.75388492e+00 -1.86161966e+00 -1.62526380e+00 ... -3.01765940e-02\n",
      "    3.88086650e-01  6.66929738e-01]\n",
      "  [-1.03345055e+00 -1.26681291e+00 -8.72004298e-01 ... -4.93312621e-02\n",
      "    9.52208476e-02  4.42459168e-02]\n",
      "  [-1.04470377e+00 -5.74055645e-01 -3.99878489e-02 ... -3.70908566e-01\n",
      "   -8.53425448e-01 -9.68973629e-01]]\n",
      "\n",
      " ...\n",
      "\n",
      " [[-1.73897295e+01 -1.31950351e+01 -1.30981417e+01 ... -7.09800251e+01\n",
      "   -7.37091212e+01 -7.59677337e+01]\n",
      "  [ 8.93410377e+00  7.16065913e+00  6.07748469e+00 ...  7.53861718e+00\n",
      "    7.95708271e+00  8.41519920e+00]\n",
      "  [-6.94188315e+00 -6.72930770e+00 -5.35818960e+00 ...  3.94405362e-01\n",
      "    6.82030331e-01  1.01581480e+00]\n",
      "  ...\n",
      "  [-7.36130867e-01 -1.43438119e-01  1.61159790e-01 ... -6.76783251e-01\n",
      "   -3.61767783e-01 -3.11273221e-01]\n",
      "  [ 5.93047307e-01  1.76198680e-01 -3.84016824e-01 ... -7.92758476e-01\n",
      "   -6.00090129e-01 -1.74739698e-01]\n",
      "  [-4.86441828e-01 -1.42466857e-01  3.53559245e-01 ... -1.90037695e-01\n",
      "   -3.97305345e-01 -8.94955523e-01]]\n",
      "\n",
      " [[-1.02420959e+02 -7.45686509e+01 -5.66505771e+01 ... -1.04350016e+02\n",
      "   -1.08154624e+02 -1.09669810e+02]\n",
      "  [ 1.08975748e+01  1.84958146e+01  1.90535701e+01 ...  1.06274032e-01\n",
      "   -9.64494994e-01 -7.71913117e-01]\n",
      "  [ 7.62377332e+00 -1.72563578e+00 -6.95507151e+00 ...  3.15061662e+00\n",
      "    2.40133718e+00  1.94752778e+00]\n",
      "  ...\n",
      "  [-8.89262719e-01  1.99749170e+00  1.86448678e+00 ... -1.96272356e-01\n",
      "    1.99547230e-01  9.20571517e-01]\n",
      "  [-1.35872139e+00 -1.28069219e+00 -2.12299786e+00 ...  6.31776941e-01\n",
      "    4.72450003e-01  1.35170306e-01]\n",
      "  [-6.26789934e-01 -6.69680552e-01 -6.43683332e-01 ... -4.14327399e-01\n",
      "   -4.48424972e-01 -6.71638229e-02]]\n",
      "\n",
      " [[-4.37841423e+01 -3.60310403e+01 -2.10909303e+01 ... -3.05669599e+01\n",
      "   -3.48515141e+01 -4.49631497e+01]\n",
      "  [ 1.36836206e+01  1.66984904e+01  1.01036369e+01 ...  3.86781596e+00\n",
      "    4.63316971e+00  4.58775280e+00]\n",
      "  [ 3.90963656e+00  2.71908853e+00 -2.14991300e+00 ...  7.36430391e+00\n",
      "    6.90930965e+00  4.96834334e+00]\n",
      "  ...\n",
      "  [ 1.28062741e+00  1.43505630e+00  5.48499763e-01 ... -8.18546452e-01\n",
      "   -8.71698720e-01 -1.47449810e-01]\n",
      "  [ 1.35396869e+00  1.09304018e+00  6.94016804e-01 ...  8.45043087e-01\n",
      "    7.43040629e-01  2.45377125e-01]\n",
      "  [ 1.58768035e+00  2.51942677e+00  2.08715983e+00 ...  2.61443476e-01\n",
      "    1.52011779e-01  7.12059326e-02]]]\n"
     ]
    }
   ],
   "source": [
    "print(featureSets['x_test'])"
   ]
  },
  {
   "cell_type": "code",
   "execution_count": 36,
   "id": "b6b2ee61",
   "metadata": {},
   "outputs": [
    {
     "name": "stdout",
     "output_type": "stream",
     "text": [
      "speech_data/Test/1.wav\n",
      "WARNING:tensorflow:6 out of the last 6 calls to <function Model.make_predict_function.<locals>.predict_function at 0x7fe14bf9a1f0> triggered tf.function retracing. Tracing is expensive and the excessive number of tracings could be due to (1) creating @tf.function repeatedly in a loop, (2) passing tensors with different shapes, (3) passing Python objects instead of tensors. For (1), please define your @tf.function outside of the loop. For (2), @tf.function has experimental_relax_shapes=True option that relaxes argument shapes that can avoid unnecessary retracing. For (3), please refer to https://www.tensorflow.org/guide/function#controlling_retracing and https://www.tensorflow.org/api_docs/python/tf/function for  more details.\n",
      "0.6914374\n"
     ]
    },
    {
     "data": {
      "image/png": "[encoded data removed]",
      "text/plain": [
       "<Figure size 432x288 with 1 Axes>"
      ]
     },
     "metadata": {
      "needs_background": "light"
     },
     "output_type": "display_data"
    }
   ],
   "source": [
    "# Checking with not trained data\n",
    "\n",
    "# Load the model\n",
    "model_path = \"wake_word.model\"\n",
    "model = keras.models.load_model(model_path)\n",
    "\n",
    "# Get the path for audio wav file\n",
    "folderName = \"Test\"\n",
    "fileName   = \"1.wav\"\n",
    "path = join(dataset_path, folderName, fileName)\n",
    "print(path)\n",
    "\n",
    "# Put the data to array\n",
    "xData     = []\n",
    "mfcc_test = extractMFCC(path)\n",
    "xData.append(mfcc_test)\n",
    "finalReshape = xData[0].reshape(xData[0].shape[0],\n",
    "                                xData[0].shape[1], 1)\n",
    "\n",
    "predictions = model.predict(np.expand_dims(finalReshape, 0))\n",
    "predictions = predictions[0][0]\n",
    "print(predictions)"
   ]
  },
  {
   "cell_type": "code",
   "execution_count": null,
   "id": "f799dd3c",
   "metadata": {},
   "outputs": [],
   "source": []
  }
 ],
 "metadata": {
  "kernelspec": {
   "display_name": "Python 3",
   "language": "python",
   "name": "python3"
  },
  "language_info": {
   "codemirror_mode": {
    "name": "ipython",
    "version": 3
   },
   "file_extension": ".py",
   "mimetype": "text/x-python",
   "name": "python",
   "nbconvert_exporter": "python",
   "pygments_lexer": "ipython3",
   "version": "3.8.5"
  }
 },
 "nbformat": 4,
 "nbformat_minor": 5
}
