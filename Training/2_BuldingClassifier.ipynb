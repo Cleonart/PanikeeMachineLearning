{
 "cells": [
  {
   "cell_type": "code",
   "execution_count": 140,
   "id": "d0c71b37",
   "metadata": {},
   "outputs": [],
   "source": [
    "from os import listdir\n",
    "from os.path import isdir, join\n",
    "from tensorflow.keras import layers, models\n",
    "import numpy as np\n",
    "import tensorflow as tf\n",
    "from tensorflow import keras\n",
    "from tensorflow.keras.layers import Dense, Flatten, Conv2D, MaxPooling2D, Dropout"
   ]
  },
  {
   "cell_type": "code",
   "execution_count": 141,
   "id": "3c0e8aa7",
   "metadata": {},
   "outputs": [],
   "source": [
    "# Create list of all targets\n",
    "dataset_path = \"../../Dataset/speech_dataset\"\n",
    "all_targets  = all_targets = [name for name in listdir(dataset_path) if isdir(join(dataset_path, name))]\n",
    "#all_targets.remove(\"_background_noise_\")"
   ]
  },
  {
   "cell_type": "code",
   "execution_count": 142,
   "id": "5da71110",
   "metadata": {},
   "outputs": [],
   "source": [
    "# Settings\n",
    "feature_sets_path = \"./\"\n",
    "feature_sets_filename = \"mfcc.npz\"\n",
    "model_filename = \"model.h5\"\n",
    "wake_word = \"stop\""
   ]
  },
  {
   "cell_type": "code",
   "execution_count": 143,
   "id": "cd917d74",
   "metadata": {},
   "outputs": [],
   "source": [
    "# Load Feature Sets\n",
    "feature_sets = np.load(join(feature_sets_path, feature_sets_filename))"
   ]
  },
  {
   "cell_type": "code",
   "execution_count": 144,
   "id": "0f6c2cd3",
   "metadata": {},
   "outputs": [],
   "source": [
    "# Assign Feature Sets\n",
    "\n",
    "# [TRAINING]\n",
    "x_train = feature_sets['x_train']\n",
    "y_train = feature_sets['y_train']\n",
    "\n",
    "# [VALIDATION]\n",
    "x_val = feature_sets['x_val']\n",
    "y_val = feature_sets['y_val']"
   ]
  },
  {
   "cell_type": "code",
   "execution_count": 145,
   "id": "e6f4712a",
   "metadata": {},
   "outputs": [
    {
     "name": "stdout",
     "output_type": "stream",
     "text": [
      "(7769, 16, 16)\n",
      "(976, 16, 16)\n"
     ]
    }
   ],
   "source": [
    "# Look at Tensor Dimensions\n",
    "print(x_train.shape)\n",
    "print(x_val.shape)"
   ]
  },
  {
   "cell_type": "code",
   "execution_count": 146,
   "id": "341dcbbb",
   "metadata": {},
   "outputs": [
    {
     "name": "stdout",
     "output_type": "stream",
     "text": [
      "[33. 28.  9. 30. 16.  1. 12. 11. 32. 32. 14.  7. 34. 20. 24.  1. 14. 33.\n",
      " 11.  4. 25. 33. 34. 33. 32.  8. 21. 20. 28. 20. 31.  9. 31. 28. 25. 19.\n",
      " 11. 18.  8. 12. 28. 32. 10. 30.  6. 32. 28. 23. 30.  4. 17.  9. 11. 16.\n",
      "  3. 20. 25. 22. 16. 33.  7. 27. 14. 20.  1. 33. 28.  8. 34. 28. 19. 31.\n",
      " 25.  0. 22.  3. 19. 11.  1. 18. 15.  5.  5. 22. 25. 16. 31. 32.  0. 31.\n",
      " 14. 24. 27. 21. 32. 29. 22. 29. 33. 24.  8.  2. 32. 34. 18. 17. 33.  7.\n",
      " 11. 19. 20.  1. 14. 20.  6. 29.  8. 24. 12. 17. 21. 14.  1. 12. 12. 24.\n",
      " 22. 11. 25.  1. 31. 12. 11.  9. 33. 25. 12. 17.  1. 16. 24. 31. 11. 12.\n",
      " 18. 27. 21. 17. 31. 18. 28.  3. 23. 30.  5. 16.  7. 23. 29. 11. 33. 33.\n",
      " 22. 29. 10. 10. 25.  4. 34.  7. 32.  9. 31. 31. 32. 31. 26. 31. 32. 16.\n",
      " 19. 22. 24. 33. 27. 16.  9. 24. 32.  3.  7. 19. 25.  6.  6. 20.  0. 14.\n",
      "  2. 32.  2. 25. 17. 29. 19.  6.  9.  9. 20.  8. 20. 24.  9. 29. 22.  9.\n",
      "  1. 33. 14. 33. 20.  1.  4.  1. 21. 16.  0. 34. 14. 14. 22.  7. 28. 18.\n",
      " 12.  9. 17. 20. 29. 28.  1. 25. 19. 32.  3.  7.  7.  7. 33. 31.  9. 33.\n",
      " 18. 27. 27. 11. 34. 11. 32.  5. 19. 33. 34. 28. 14. 11. 34.  5. 34.  0.\n",
      " 11. 32. 28.  9. 34. 23. 18. 19. 25. 22. 32. 17.  1. 33. 19.  1. 11. 19.\n",
      " 29. 15. 28. 11. 28.  5. 23. 15. 29.  0. 31. 34.  7. 33.  1. 11. 34. 21.\n",
      " 34.  1. 13. 31. 20. 34. 14. 22.  9.  8. 32.  1.  2.  5. 34. 20. 28.  8.\n",
      " 33. 19. 29. 14.  5.  0.  7. 19. 28. 33. 34. 29. 27. 11.  1. 19. 17. 32.\n",
      " 27. 33.  8. 31. 24. 31. 25.  9. 21. 31.  9.  9. 20.  9. 12. 34. 13.  1.\n",
      " 31. 17.  9.  5. 34. 12. 17. 19.  7. 33. 19. 29.  1.  0.  6. 34. 11. 21.\n",
      " 10. 22.  9.  1. 30. 27. 28. 16. 20.  0. 24. 14.  6.  8. 31. 32. 20. 31.\n",
      "  2. 19.  5. 21.  7. 16. 16. 20. 19. 25. 17. 17. 29. 15. 20.  7.  9. 29.\n",
      " 34. 13. 21. 26. 28. 28. 32. 29. 17. 29.  1. 21.  5. 19. 21. 11. 32.  1.\n",
      " 25. 28.  9. 18. 29. 17. 28. 24. 22. 10. 29. 17. 17. 13. 33. 14. 27. 14.\n",
      " 19.  5.  1. 33. 29. 21. 25. 22. 21. 22. 19.  8. 14.  4.  1. 32.  7. 33.\n",
      " 23. 11. 16. 28.  3. 24. 26. 24. 19. 22. 23.  5. 11. 25.  1. 24. 12. 32.\n",
      " 22. 14. 17. 34. 34.  5. 13. 23.  8. 20. 15.  7. 12. 17. 33. 22.  7. 24.\n",
      " 11.  3. 18. 25.  0. 21. 14. 20. 26. 18. 28. 19. 28. 33. 28. 31. 33.  1.\n",
      " 14. 34. 15. 29. 13. 24. 33. 13. 29. 32.  9. 19. 27. 20. 29.  9.  0. 14.\n",
      " 22. 21. 32. 34. 21. 33. 28. 31. 32.  9. 33. 18. 22. 17.  0. 19. 16.  4.\n",
      " 31. 14.  5. 32. 29.  9. 17. 18. 30. 19. 29. 17. 26. 34. 17. 30. 10. 11.\n",
      " 27.  6. 12. 29. 34. 12.  2. 19. 28. 14. 10. 17.  1.  3. 24. 14.  1. 24.\n",
      " 32. 25.  7. 22.  3. 28. 10. 27. 14. 23. 15. 25. 28. 28. 10. 33. 30. 21.\n",
      " 14.  2. 15. 25. 34. 14.  2. 12. 20. 28. 24. 23. 17. 22. 33.  6. 20.  7.\n",
      "  4. 14.  7. 25. 19. 18. 14. 24. 32. 16. 27. 19.  3.  6.  8.  0. 34. 22.\n",
      " 24. 25. 20. 34. 28. 10. 28. 16.  8. 14. 33. 26. 30. 34. 34. 21. 14.  9.\n",
      " 33.  6. 21. 20. 29. 24.  9. 25. 16.  1. 25. 33. 21. 11. 24. 34.  7. 22.\n",
      " 33. 14. 17. 15.  9. 17. 34. 16. 11. 18.  7. 31. 31. 21. 14. 12. 13. 19.\n",
      " 32. 24. 34. 34.  7. 20. 10.  9. 25.  4. 11. 16. 27. 19. 22. 32. 14. 12.\n",
      " 17. 34. 34. 23.  0. 10. 32. 25. 31. 21. 19. 12. 25. 28. 13.  6. 34. 13.\n",
      " 24.  5. 11. 30. 27. 32. 19. 25.  8. 30. 34. 22. 24. 22. 11.  1.  0.  4.\n",
      " 32.  1. 17. 29. 16. 24. 28. 15. 30. 32. 19. 12. 14. 27. 12. 17. 15.  8.\n",
      " 25.  7. 31. 27.  1. 33.  8. 34. 32. 29. 17. 19. 32. 12.  1. 20. 21.  7.\n",
      " 14. 11. 27. 23.  5.  9.  8. 11. 25.  6. 31. 25. 24. 24. 27. 32. 16. 34.\n",
      " 34. 22. 16. 34. 32. 18.  9. 19. 19. 21. 17. 25.  7. 33.  9. 31. 34. 21.\n",
      " 23. 27.  5. 14. 12.  7. 23. 29. 25. 22.  7. 12. 11.  0. 24. 14. 33. 11.\n",
      " 24. 19. 19. 21. 19. 16. 33. 18.  7. 14. 11. 14. 23. 31. 33. 34. 27. 23.\n",
      " 29. 32. 27. 28. 26. 31. 14.  3. 14. 25. 27.  7.  6. 14.  2. 18.  6. 32.\n",
      " 22. 15. 28. 23. 22. 23. 19. 14. 14. 24.  2. 21.  5.  4. 20. 24.  1. 28.\n",
      " 22. 11. 11. 29. 20. 18.  7. 11. 24. 32. 14. 30. 34. 16. 12. 28.  6. 31.\n",
      " 33. 31.  8.  1. 11.  9. 31.  3.  4.  0. 27. 25. 14. 19. 29. 13. 10. 27.\n",
      " 14. 16.  9. 34. 13. 12.  1. 14. 14. 13. 28. 34.  0. 19. 10. 32. 32. 19.\n",
      " 13.  8. 23. 25.  7.  1. 25.  1. 17. 25. 10.  7. 12. 28.  8. 22. 19. 31.\n",
      "  9. 11. 33. 17.]\n"
     ]
    }
   ],
   "source": [
    "# Peek at labels\n",
    "print(y_val)"
   ]
  },
  {
   "cell_type": "code",
   "execution_count": 147,
   "id": "41db79c7",
   "metadata": {},
   "outputs": [],
   "source": [
    "# Convert ground truth arrays to one wake word (1) and 'other' (0)\n",
    "wake_word_index = all_targets.index(wake_word)\n",
    "y_train         = np.equal(y_train, wake_word_index).astype('float64')\n",
    "y_val           = np.equal(y_val, wake_word_index).astype('float64')"
   ]
  },
  {
   "cell_type": "code",
   "execution_count": 148,
   "id": "c5132403",
   "metadata": {},
   "outputs": [
    {
     "data": {
      "text/plain": [
       "array([0., 0., 0., 0., 0., 0., 0., 0., 0., 0., 0., 0., 0., 0., 0., 0., 0.,\n",
       "       0., 0., 0., 0., 0., 0., 0., 0., 0., 0., 0., 0., 0., 0., 0., 0., 0.,\n",
       "       0., 0., 0., 0., 0., 0., 0., 0., 0., 0., 0., 0., 0., 0., 0., 0., 1.,\n",
       "       0., 0., 0., 0., 0., 0., 0., 0., 0., 0., 0., 0., 0., 0., 0., 0., 0.,\n",
       "       0., 0., 0., 0., 0., 0., 0., 0., 0., 0., 0., 0., 0., 0., 0., 0., 0.,\n",
       "       0., 0., 0., 0., 0., 0., 0., 0., 0., 0., 0., 0., 0., 0., 0., 0., 0.,\n",
       "       0., 0., 0., 1., 0., 0., 0., 0., 0., 0., 0., 0., 0., 0., 0., 0., 0.,\n",
       "       1., 0., 0., 0., 0., 0., 0., 0., 0., 0., 0., 0., 0., 0., 0., 0., 0.,\n",
       "       0., 1., 0., 0., 0., 0., 0., 0., 0., 0., 0., 1., 0., 0., 0., 0., 0.,\n",
       "       0., 0., 0., 0., 0., 0., 0., 0., 0., 0., 0., 0., 0., 0., 0., 0., 0.,\n",
       "       0., 0., 0., 0., 0., 0., 0., 0., 0., 0., 0., 0., 0., 0., 0., 0., 0.,\n",
       "       0., 0., 0., 0., 0., 0., 0., 0., 0., 0., 0., 0., 0., 0., 0., 1., 0.,\n",
       "       0., 0., 0., 0., 0., 0., 0., 0., 0., 0., 0., 0., 0., 0., 0., 0., 0.,\n",
       "       0., 0., 0., 0., 0., 0., 0., 0., 0., 0., 0., 0., 0., 0., 0., 1., 0.,\n",
       "       0., 0., 0., 0., 0., 0., 0., 0., 0., 0., 0., 0., 0., 0., 0., 0., 0.,\n",
       "       0., 0., 0., 0., 0., 0., 0., 0., 0., 0., 0., 0., 0., 0., 0., 0., 0.,\n",
       "       0., 0., 0., 0., 0., 0., 0., 0., 0., 1., 0., 0., 0., 0., 0., 0., 0.,\n",
       "       0., 0., 0., 0., 0., 0., 0., 0., 0., 0., 0., 0., 0., 0., 0., 0., 0.,\n",
       "       0., 0., 0., 0., 0., 0., 0., 0., 0., 0., 0., 0., 0., 0., 0., 0., 0.,\n",
       "       0., 0., 0., 0., 0., 0., 0., 0., 0., 0., 0., 0., 0., 0., 0., 0., 0.,\n",
       "       1., 0., 0., 0., 0., 0., 0., 0., 0., 0., 0., 0., 0., 0., 0., 0., 0.,\n",
       "       0., 0., 0., 0., 1., 0., 0., 0., 0., 1., 0., 0., 0., 0., 0., 0., 0.,\n",
       "       0., 0., 0., 0., 0., 0., 0., 0., 0., 0., 0., 0., 0., 0., 0., 0., 0.,\n",
       "       0., 0., 0., 0., 0., 0., 0., 0., 0., 0., 0., 0., 0., 0., 0., 1., 1.,\n",
       "       0., 0., 0., 0., 0., 0., 0., 0., 0., 0., 0., 0., 0., 0., 1., 0., 0.,\n",
       "       0., 0., 0., 0., 0., 0., 0., 0., 0., 0., 0., 0., 1., 0., 0., 0., 0.,\n",
       "       0., 1., 1., 0., 0., 0., 0., 0., 0., 0., 0., 0., 0., 0., 0., 0., 0.,\n",
       "       0., 0., 0., 0., 0., 0., 0., 0., 0., 0., 0., 0., 0., 0., 0., 0., 0.,\n",
       "       0., 0., 0., 0., 0., 0., 0., 0., 0., 0., 0., 0., 1., 0., 0., 0., 0.,\n",
       "       0., 0., 0., 0., 0., 0., 1., 0., 0., 0., 0., 0., 0., 0., 0., 0., 0.,\n",
       "       0., 0., 0., 0., 0., 0., 0., 0., 0., 0., 0., 0., 0., 0., 0., 0., 0.,\n",
       "       0., 0., 0., 0., 0., 0., 0., 0., 0., 0., 0., 0., 0., 0., 0., 0., 0.,\n",
       "       0., 0., 0., 0., 0., 0., 0., 0., 0., 1., 0., 0., 0., 0., 0., 0., 0.,\n",
       "       0., 0., 0., 1., 0., 0., 0., 0., 1., 0., 0., 1., 0., 0., 0., 0., 0.,\n",
       "       0., 0., 0., 0., 0., 0., 0., 0., 0., 1., 0., 0., 0., 0., 0., 0., 0.,\n",
       "       0., 0., 0., 0., 0., 0., 0., 0., 0., 0., 0., 0., 0., 0., 0., 0., 0.,\n",
       "       0., 0., 0., 0., 0., 0., 0., 0., 0., 0., 0., 0., 1., 0., 0., 0., 0.,\n",
       "       0., 0., 0., 0., 0., 0., 0., 0., 0., 0., 0., 0., 0., 0., 0., 0., 0.,\n",
       "       0., 0., 0., 0., 0., 0., 0., 0., 0., 0., 0., 0., 0., 0., 0., 0., 0.,\n",
       "       0., 0., 0., 0., 0., 0., 0., 0., 0., 0., 0., 0., 0., 0., 0., 0., 0.,\n",
       "       0., 0., 0., 0., 0., 0., 1., 0., 0., 1., 0., 0., 0., 0., 0., 0., 0.,\n",
       "       0., 0., 0., 0., 0., 0., 0., 0., 0., 0., 0., 0., 0., 0., 0., 0., 0.,\n",
       "       0., 0., 0., 0., 0., 0., 1., 0., 0., 0., 0., 0., 0., 0., 0., 0., 0.,\n",
       "       0., 0., 0., 0., 0., 0., 0., 0., 0., 0., 0., 0., 0., 0., 0., 0., 0.,\n",
       "       0., 0., 0., 0., 0., 0., 0., 0., 0., 0., 1., 0., 0., 0., 0., 0., 0.,\n",
       "       0., 0., 0., 0., 0., 0., 1., 0., 0., 0., 0., 0., 0., 0., 0., 0., 0.,\n",
       "       0., 0., 1., 0., 0., 0., 0., 0., 0., 0., 0., 0., 0., 0., 0., 0., 0.,\n",
       "       0., 0., 0., 0., 0., 0., 0., 0., 0., 0., 0., 0., 0., 0., 0., 0., 0.,\n",
       "       0., 0., 0., 0., 1., 0., 0., 0., 0., 0., 0., 0., 0., 0., 0., 0., 0.,\n",
       "       0., 0., 0., 0., 0., 0., 0., 0., 0., 0., 0., 0., 0., 0., 0., 0., 0.,\n",
       "       0., 0., 0., 0., 0., 0., 0., 0., 0., 0., 0., 0., 0., 0., 0., 0., 0.,\n",
       "       0., 0., 0., 0., 0., 0., 0., 0., 0., 0., 0., 0., 0., 0., 0., 0., 0.,\n",
       "       0., 0., 0., 0., 0., 0., 0., 0., 0., 0., 0., 0., 0., 0., 0., 0., 0.,\n",
       "       0., 0., 0., 0., 0., 0., 0., 0., 0., 0., 0., 0., 0., 0., 0., 0., 0.,\n",
       "       0., 0., 0., 0., 0., 0., 0., 0., 0., 0., 0., 0., 0., 0., 0., 0., 0.,\n",
       "       0., 0., 0., 0., 0., 0., 0., 0., 0., 0., 0., 0., 0., 0., 0., 0., 0.,\n",
       "       0., 0., 0., 0., 0., 0., 0., 0., 0., 0., 1., 0., 0., 0., 0., 0., 0.,\n",
       "       0., 0., 0., 0., 0., 0., 1.])"
      ]
     },
     "execution_count": 148,
     "metadata": {},
     "output_type": "execute_result"
    }
   ],
   "source": [
    "y_val"
   ]
  },
  {
   "cell_type": "code",
   "execution_count": 149,
   "id": "b147f564",
   "metadata": {},
   "outputs": [
    {
     "name": "stdout",
     "output_type": "stream",
     "text": [
      "0.03483606557377049\n",
      "0.9651639344262295\n"
     ]
    }
   ],
   "source": [
    "print(sum(y_val) / len(y_val))\n",
    "print(1 - sum(y_val) / len(y_val))"
   ]
  },
  {
   "cell_type": "code",
   "execution_count": 150,
   "id": "f53bf3ba",
   "metadata": {},
   "outputs": [
    {
     "name": "stdout",
     "output_type": "stream",
     "text": [
      "[[-5.90071960e+02 -5.89049011e+02 -4.72698273e+02 -1.45482391e+02\n",
      "  -8.46519852e+00  1.37874870e+01 -1.36613712e+01 -4.96497688e+01\n",
      "  -4.03163795e+01 -7.20003357e+01 -1.97946701e+02 -3.05725067e+02\n",
      "  -3.81750549e+02 -4.31976990e+02 -4.67341339e+02 -4.91607941e+02]\n",
      " [ 2.42968321e+00  3.10460734e+00  8.10482941e+01  7.05710220e+01\n",
      "   2.95022621e+01 -7.86245680e+00 -1.46863270e+01  2.10577354e+01\n",
      "   2.47948532e+01  3.00140934e+01  4.41210327e+01  5.62711182e+01\n",
      "   4.61920471e+01  2.22497215e+01  1.07050667e+01  1.41057930e+01]\n",
      " [-1.42181277e-01 -6.80013955e-01  6.05745239e+01  8.76058006e+00\n",
      "  -2.84802284e+01 -5.39071121e+01 -5.87116890e+01 -5.15415039e+01\n",
      "  -2.13740616e+01 -5.58893538e+00  8.73267078e+00  1.51271267e+01\n",
      "  -7.73243856e+00 -2.88412933e+01 -3.69463081e+01 -3.34396477e+01]\n",
      " [-1.94975778e-01 -1.98572725e-01  2.57861176e+01 -3.56877594e+01\n",
      "  -4.12023773e+01 -3.72617188e+01 -9.34825993e+00  1.63118343e+01\n",
      "   2.97081108e+01  3.31191025e+01  4.17450790e+01  4.32040939e+01\n",
      "   2.11556282e+01 -2.05959558e+00 -7.09129906e+00 -1.21233940e+01]\n",
      " [ 8.50225687e-01  2.07803130e+00 -2.09313469e+01 -1.82957382e+01\n",
      "   7.47808591e-02  6.94396591e+00  8.28397942e+00 -8.01526737e+00\n",
      "  -3.08804970e+01 -3.35653152e+01 -2.10510807e+01 -1.46165104e+01\n",
      "  -8.44323540e+00 -1.31252327e+01 -7.98032379e+00 -3.96933222e+00]\n",
      " [ 6.70944750e-01  1.21985972e+00  3.54598007e+01  1.82353096e+01\n",
      "  -3.57881165e+00 -1.41470280e+01 -2.87200508e+01 -3.71883392e+01\n",
      "  -4.58351059e+01 -4.34260788e+01 -3.28070374e+01 -1.14548912e+01\n",
      "   4.05368710e+00 -1.94058323e+00 -2.65709782e+00 -9.35210419e+00]\n",
      " [-1.00964904e+00 -1.74999321e+00 -2.94546223e+01 -3.04873695e+01\n",
      "  -2.59894218e+01 -2.53818455e+01 -2.70863152e+01 -3.10819588e+01\n",
      "  -2.58306007e+01 -2.76137772e+01 -3.28689651e+01 -2.31584854e+01\n",
      "  -1.44552326e+01 -1.96373405e+01 -1.61824188e+01 -1.27595072e+01]\n",
      " [-1.77263796e+00 -2.91383171e+00 -2.41507359e+01 -2.23436050e+01\n",
      "  -1.61275711e+01 -8.05923748e+00  7.48475969e-01  1.45742369e+00\n",
      "  -7.93259764e+00 -8.20375347e+00 -1.00587940e+01 -1.69303837e+01\n",
      "  -8.06554031e+00  7.38048196e-01  3.39930117e-01  6.23801613e+00]\n",
      " [-1.39426112e+00 -2.23380303e+00 -2.52311344e+01 -6.15774751e-01\n",
      "   1.93810964e+00  2.60320973e+00  1.18130827e+00 -3.03114247e+00\n",
      "  -1.12611065e+01 -1.49282169e+01 -1.22952347e+01 -1.43414917e+01\n",
      "  -9.23224258e+00 -8.05357170e+00 -2.07048130e+00  6.47282171e+00]\n",
      " [-1.89060760e+00 -2.07326913e+00 -4.88276596e+01 -2.14614239e+01\n",
      "  -1.41913414e+01 -1.65909386e+01 -1.68305244e+01 -1.32214794e+01\n",
      "  -1.18974075e+01 -6.48455524e+00 -2.04006076e+00 -7.31127214e+00\n",
      "  -5.97817039e+00 -7.41281700e+00 -5.97826242e+00 -4.53064346e+00]\n",
      " [-2.18825674e+00 -2.48462176e+00  7.78559875e+00  3.40145683e+00\n",
      "  -1.01042528e+01 -1.20468273e+01 -7.24317932e+00 -2.02640390e+00\n",
      "   4.42586994e+00 -1.10456908e+00 -8.81864929e+00 -3.17654371e+00\n",
      "  -1.35428543e+01 -1.39996243e+01 -1.18066483e+01 -1.78280487e+01]\n",
      " [-1.46433973e+00 -2.12935185e+00 -1.65451813e+01 -1.69324970e+01\n",
      "  -6.40702057e+00 -1.51429069e+00 -1.00939238e+00 -2.82083654e+00\n",
      "  -8.87511444e+00 -1.53982544e+01 -2.01468830e+01 -1.96989956e+01\n",
      "  -1.08703985e+01 -6.94677448e+00 -4.59285545e+00 -4.44803524e+00]\n",
      " [-9.65334415e-01 -1.35576797e+00 -9.75865364e+00 -2.52863350e+01\n",
      "  -1.53115902e+01 -1.33949261e+01 -1.33683853e+01 -1.35300837e+01\n",
      "  -1.25567217e+01 -1.02666168e+01 -2.12465596e+00 -1.38990612e+01\n",
      "  -1.84958191e+01 -1.40130491e+01 -5.95026827e+00 -3.49661326e+00]\n",
      " [-9.30002213e-01 -1.05311680e+00 -1.17459402e+01 -3.63631725e+00\n",
      "  -4.36299515e+00 -5.30120802e+00 -4.12949467e+00  6.02174103e-02\n",
      "   1.00022840e+00 -3.59656620e+00  1.15209091e+00  7.20303416e-01\n",
      "  -7.59895515e+00 -1.15999832e+01 -6.32720280e+00 -1.46292615e+00]\n",
      " [-5.86187899e-01 -3.80747706e-01 -2.80785484e+01 -2.51943569e+01\n",
      "  -2.44331894e+01 -2.02999840e+01 -2.07428932e+01 -2.60161667e+01\n",
      "  -4.30932159e+01 -4.43407173e+01 -3.45666275e+01 -2.85725403e+01\n",
      "  -2.34552536e+01 -1.34885502e+01 -4.54154491e+00 -5.79389191e+00]\n",
      " [ 1.18516994e+00  1.41308641e+00  2.34320164e+00  1.33557358e+01\n",
      "   9.18952179e+00  8.52169991e+00  4.30450726e+00  4.18083334e+00\n",
      "   1.07933388e+01  6.56722927e+00  6.66699111e-01  4.76738751e-01\n",
      "  -3.18816781e+00  4.29128838e+00  4.34399986e+00  3.58893132e+00]]\n"
     ]
    }
   ],
   "source": [
    "# Dimension of input data\n",
    "print(x_train[0])"
   ]
  },
  {
   "cell_type": "code",
   "execution_count": 152,
   "id": "3370ed26",
   "metadata": {},
   "outputs": [
    {
     "name": "stdout",
     "output_type": "stream",
     "text": [
      "(7769, 16, 16, 1)\n",
      "(976, 16, 16, 1)\n"
     ]
    }
   ],
   "source": [
    "# CNN for IF expects (batch, height, width, channels)\n",
    "# So we reshape the input tensors with a \"color\" channel of 1\n",
    "shape = 16\n",
    "\n",
    "# [TRAINING]\n",
    "x_train = x_train.reshape(x_train.shape[0], x_train.shape[1], x_train.shape[2], 1)\n",
    "\n",
    "# [VALIDATION]\n",
    "x_val = x_val.reshape(x_val.shape[0],x_val.shape[1],x_val.shape[2], 1)\n",
    "\n",
    "print(x_train.shape)\n",
    "print(x_val.shape)"
   ]
  },
  {
   "cell_type": "code",
   "execution_count": 153,
   "id": "618b8725",
   "metadata": {},
   "outputs": [
    {
     "name": "stdout",
     "output_type": "stream",
     "text": [
      "(16, 16, 1)\n"
     ]
    }
   ],
   "source": [
    "# Input shape for CNN is size MFCC of 1 sample\n",
    "sample_shape = x_train.shape[1:]\n",
    "print(sample_shape)"
   ]
  },
  {
   "cell_type": "code",
   "execution_count": 154,
   "id": "f618f513",
   "metadata": {},
   "outputs": [],
   "source": [
    "# Build model\n",
    "# Based on: https://www.geeksforgeeks.org/python-image-classification-using-keras/\n",
    "model = models.Sequential()\n",
    "model.add(layers.Conv2D(32, \n",
    "                        (2, 2), \n",
    "                        activation='relu',\n",
    "                        input_shape=sample_shape))\n",
    "model.add(layers.MaxPooling2D(pool_size=(2, 2)))\n",
    "\n",
    "model.add(layers.Conv2D(32, (2, 2), activation='relu'))\n",
    "model.add(layers.MaxPooling2D(pool_size=(2, 2)))\n",
    "\n",
    "model.add(layers.Conv2D(64, (2, 2), activation='relu'))\n",
    "model.add(layers.MaxPooling2D(pool_size=(2, 2)))\n",
    "\n",
    "# Classifier\n",
    "model.add(layers.Flatten())\n",
    "model.add(layers.Dense(64, activation='relu'))\n",
    "model.add(layers.Dropout(0.5))\n",
    "model.add(layers.Dense(1, activation='sigmoid'))"
   ]
  },
  {
   "cell_type": "code",
   "execution_count": 155,
   "id": "49b73402",
   "metadata": {},
   "outputs": [
    {
     "name": "stdout",
     "output_type": "stream",
     "text": [
      "Model: \"sequential_8\"\n",
      "_________________________________________________________________\n",
      "Layer (type)                 Output Shape              Param #   \n",
      "=================================================================\n",
      "conv2d_13 (Conv2D)           (None, 15, 15, 32)        160       \n",
      "_________________________________________________________________\n",
      "max_pooling2d_11 (MaxPooling (None, 7, 7, 32)          0         \n",
      "_________________________________________________________________\n",
      "conv2d_14 (Conv2D)           (None, 6, 6, 32)          4128      \n",
      "_________________________________________________________________\n",
      "max_pooling2d_12 (MaxPooling (None, 3, 3, 32)          0         \n",
      "_________________________________________________________________\n",
      "conv2d_15 (Conv2D)           (None, 2, 2, 64)          8256      \n",
      "_________________________________________________________________\n",
      "max_pooling2d_13 (MaxPooling (None, 1, 1, 64)          0         \n",
      "_________________________________________________________________\n",
      "flatten_4 (Flatten)          (None, 64)                0         \n",
      "_________________________________________________________________\n",
      "dense_11 (Dense)             (None, 64)                4160      \n",
      "_________________________________________________________________\n",
      "dropout_10 (Dropout)         (None, 64)                0         \n",
      "_________________________________________________________________\n",
      "dense_12 (Dense)             (None, 1)                 65        \n",
      "=================================================================\n",
      "Total params: 16,769\n",
      "Trainable params: 16,769\n",
      "Non-trainable params: 0\n",
      "_________________________________________________________________\n",
      "Epoch 1/3\n",
      "156/156 [==============================] - 5s 14ms/step - loss: 2.1415 - acc: 0.8759 - val_loss: 0.1348 - val_acc: 0.9652\n",
      "Epoch 2/3\n",
      "156/156 [==============================] - 1s 8ms/step - loss: 0.1583 - acc: 0.9609 - val_loss: 0.1188 - val_acc: 0.9652\n",
      "Epoch 3/3\n",
      "156/156 [==============================] - 1s 9ms/step - loss: 0.1313 - acc: 0.9624 - val_loss: 0.1088 - val_acc: 0.9662\n"
     ]
    }
   ],
   "source": [
    "# Display model\n",
    "model.summary()\n",
    "\n",
    "# Add training parameters to model\n",
    "model.compile(loss='binary_crossentropy', \n",
    "              optimizer='adam', \n",
    "              metrics=['acc'])\n",
    "\n",
    "# Train\n",
    "history = model.fit(x_train, \n",
    "                    y_train, \n",
    "                    epochs=3, \n",
    "                    batch_size=50, \n",
    "                    validation_data=(x_val, y_val))"
   ]
  },
  {
   "cell_type": "code",
   "execution_count": 156,
   "id": "67a28291",
   "metadata": {},
   "outputs": [
    {
     "data": {
      "image/png": "[encoded data removed]",
      "text/plain": [
       "<Figure size 432x288 with 1 Axes>"
      ]
     },
     "metadata": {
      "needs_background": "light"
     },
     "output_type": "display_data"
    },
    {
     "data": {
      "image/png": "[encoded data removed]",
      "text/plain": [
       "<Figure size 432x288 with 1 Axes>"
      ]
     },
     "metadata": {
      "needs_background": "light"
     },
     "output_type": "display_data"
    }
   ],
   "source": [
    "# Plot results\n",
    "import matplotlib.pyplot as plt\n",
    "\n",
    "acc = history.history['acc']\n",
    "val_acc = history.history['val_acc']\n",
    "loss = history.history['loss']\n",
    "val_loss = history.history['val_loss']\n",
    "\n",
    "epochs = range(1, len(acc) + 1)\n",
    "\n",
    "plt.plot(epochs, acc, 'bo', label='Training acc')\n",
    "plt.plot(epochs, val_acc, 'b', label='Validation acc')\n",
    "plt.title('Training and validation accuracy')\n",
    "plt.legend()\n",
    "\n",
    "plt.figure()\n",
    "\n",
    "plt.plot(epochs, loss, 'bo', label='Training loss')\n",
    "plt.plot(epochs, val_loss, 'b', label='Validation loss')\n",
    "plt.title('Training and validation loss')\n",
    "plt.legend()\n",
    "\n",
    "plt.show()"
   ]
  },
  {
   "cell_type": "code",
   "execution_count": 157,
   "id": "01d996da",
   "metadata": {},
   "outputs": [
    {
     "name": "stdout",
     "output_type": "stream",
     "text": [
      "INFO:tensorflow:Assets written to: wake_word.model/assets\n"
     ]
    }
   ],
   "source": [
    "# Save the model as a file\n",
    "models.save_model(model, model_filename)\n",
    "models.save_model(model, \"wake_word.model\")"
   ]
  },
  {
   "cell_type": "code",
   "execution_count": 158,
   "id": "39bfc80c",
   "metadata": {},
   "outputs": [
    {
     "name": "stdout",
     "output_type": "stream",
     "text": [
      "50\n",
      "105\n",
      "119\n",
      "137\n",
      "147\n",
      "202\n",
      "236\n",
      "281\n",
      "340\n",
      "361\n",
      "366\n",
      "406\n",
      "407\n",
      "422\n",
      "437\n",
      "443\n",
      "444\n",
      "488\n",
      "499\n",
      "553\n",
      "564\n",
      "569\n",
      "572\n",
      "587\n",
      "624\n",
      "686\n",
      "689\n",
      "720\n",
      "758\n",
      "771\n",
      "784\n",
      "820\n",
      "962\n",
      "975\n"
     ]
    }
   ],
   "source": [
    "# See which are 'stop'\n",
    "for idx, y in enumerate(y_val):\n",
    "    if y == 1:\n",
    "        print(idx)"
   ]
  },
  {
   "cell_type": "code",
   "execution_count": 159,
   "id": "801240d8",
   "metadata": {},
   "outputs": [
    {
     "name": "stdout",
     "output_type": "stream",
     "text": [
      "Answer: 0.0  Prediction: [[0.00563625]]\n",
      "Answer: 0.0  Prediction: [[0.01696834]]\n",
      "Answer: 0.0  Prediction: [[0.090534]]\n",
      "Answer: 0.0  Prediction: [[0.11720553]]\n",
      "Answer: 0.0  Prediction: [[0.0266026]]\n",
      "Answer: 1.0  Prediction: [[0.25284415]]\n",
      "Answer: 0.0  Prediction: [[0.0300889]]\n",
      "Answer: 0.0  Prediction: [[0.09995422]]\n",
      "Answer: 0.0  Prediction: [[0.00716954]]\n",
      "Answer: 0.0  Prediction: [[0.02176753]]\n",
      "Answer: 0.0  Prediction: [[0.03696403]]\n",
      "Answer: 0.0  Prediction: [[0.00181448]]\n",
      "Answer: 0.0  Prediction: [[0.00916272]]\n",
      "Answer: 0.0  Prediction: [[0.01502958]]\n",
      "Answer: 0.0  Prediction: [[0.00503725]]\n",
      "Answer: 0.0  Prediction: [[0.0122391]]\n",
      "Answer: 0.0  Prediction: [[3.1820247e-05]]\n",
      "Answer: 0.0  Prediction: [[0.0350056]]\n",
      "Answer: 0.0  Prediction: [[0.00059703]]\n",
      "Answer: 1.0  Prediction: [[0.24626428]]\n",
      "Answer: 0.0  Prediction: [[0.02797914]]\n",
      "Answer: 0.0  Prediction: [[0.00270936]]\n",
      "Answer: 0.0  Prediction: [[0.00077698]]\n",
      "Answer: 0.0  Prediction: [[0.00543049]]\n",
      "Answer: 0.0  Prediction: [[0.00073171]]\n",
      "Answer: 0.0  Prediction: [[0.01949003]]\n",
      "Answer: 0.0  Prediction: [[0.11910817]]\n",
      "Answer: 0.0  Prediction: [[4.5184177e-05]]\n",
      "Answer: 0.0  Prediction: [[0.00116447]]\n",
      "Answer: 0.0  Prediction: [[0.01879704]]\n",
      "Answer: 0.0  Prediction: [[0.01484877]]\n",
      "Answer: 0.0  Prediction: [[0.00136936]]\n",
      "Answer: 0.0  Prediction: [[0.00643617]]\n",
      "Answer: 0.0  Prediction: [[0.00295043]]\n",
      "Answer: 0.0  Prediction: [[0.10905898]]\n",
      "Answer: 0.0  Prediction: [[0.00039998]]\n",
      "Answer: 0.0  Prediction: [[0.0034436]]\n",
      "Answer: 1.0  Prediction: [[0.01246142]]\n",
      "Answer: 0.0  Prediction: [[0.00727853]]\n",
      "Answer: 0.0  Prediction: [[0.08383736]]\n",
      "Answer: 0.0  Prediction: [[0.04353562]]\n",
      "Answer: 0.0  Prediction: [[0.023518]]\n",
      "Answer: 0.0  Prediction: [[0.00172123]]\n",
      "Answer: 0.0  Prediction: [[0.00036016]]\n",
      "Answer: 0.0  Prediction: [[0.08818731]]\n",
      "Answer: 0.0  Prediction: [[0.19957438]]\n",
      "Answer: 0.0  Prediction: [[0.0044235]]\n",
      "Answer: 1.0  Prediction: [[0.16246524]]\n",
      "Answer: 0.0  Prediction: [[0.02736366]]\n",
      "Answer: 0.0  Prediction: [[0.01763675]]\n",
      "Answer: 0.0  Prediction: [[0.00234568]]\n",
      "Answer: 0.0  Prediction: [[0.00649333]]\n",
      "Answer: 0.0  Prediction: [[0.00104272]]\n",
      "Answer: 0.0  Prediction: [[0.03899106]]\n",
      "Answer: 0.0  Prediction: [[0.25147346]]\n",
      "Answer: 0.0  Prediction: [[0.08492193]]\n",
      "Answer: 0.0  Prediction: [[0.00862658]]\n",
      "Answer: 0.0  Prediction: [[0.00167367]]\n",
      "Answer: 0.0  Prediction: [[0.04861245]]\n",
      "Answer: 0.0  Prediction: [[0.00062618]]\n",
      "Answer: 0.0  Prediction: [[0.00168142]]\n",
      "Answer: 0.0  Prediction: [[0.2229799]]\n",
      "Answer: 0.0  Prediction: [[0.08125386]]\n",
      "Answer: 0.0  Prediction: [[0.00187054]]\n",
      "Answer: 0.0  Prediction: [[0.04578975]]\n",
      "Answer: 0.0  Prediction: [[0.21151432]]\n",
      "Answer: 0.0  Prediction: [[0.02173567]]\n",
      "Answer: 0.0  Prediction: [[0.02327421]]\n",
      "Answer: 0.0  Prediction: [[0.0174208]]\n",
      "Answer: 0.0  Prediction: [[0.00537702]]\n",
      "Answer: 0.0  Prediction: [[0.00278398]]\n",
      "Answer: 0.0  Prediction: [[0.00127465]]\n",
      "Answer: 0.0  Prediction: [[0.00831088]]\n",
      "Answer: 0.0  Prediction: [[0.06439331]]\n",
      "Answer: 0.0  Prediction: [[0.07486621]]\n",
      "Answer: 0.0  Prediction: [[0.01113024]]\n",
      "Answer: 0.0  Prediction: [[0.01197168]]\n",
      "Answer: 0.0  Prediction: [[0.0012283]]\n",
      "Answer: 0.0  Prediction: [[0.02501443]]\n",
      "Answer: 0.0  Prediction: [[0.01173958]]\n",
      "Answer: 0.0  Prediction: [[0.00924224]]\n",
      "Answer: 0.0  Prediction: [[0.07746559]]\n",
      "Answer: 0.0  Prediction: [[0.05566716]]\n",
      "Answer: 0.0  Prediction: [[0.00191408]]\n",
      "Answer: 0.0  Prediction: [[0.16745272]]\n",
      "Answer: 0.0  Prediction: [[0.09927586]]\n",
      "Answer: 0.0  Prediction: [[0.00273076]]\n",
      "Answer: 0.0  Prediction: [[0.00675637]]\n",
      "Answer: 0.0  Prediction: [[0.00240108]]\n",
      "Answer: 0.0  Prediction: [[0.06320482]]\n",
      "Answer: 0.0  Prediction: [[0.02276441]]\n",
      "Answer: 0.0  Prediction: [[0.15993527]]\n",
      "Answer: 0.0  Prediction: [[0.00401995]]\n",
      "Answer: 0.0  Prediction: [[0.00887188]]\n",
      "Answer: 0.0  Prediction: [[0.00131422]]\n",
      "Answer: 0.0  Prediction: [[0.0189901]]\n",
      "Answer: 0.0  Prediction: [[0.08552137]]\n",
      "Answer: 0.0  Prediction: [[0.00367177]]\n",
      "Answer: 0.0  Prediction: [[0.00310022]]\n",
      "Answer: 0.0  Prediction: [[0.01645058]]\n"
     ]
    }
   ],
   "source": [
    "# TEST: Load model and run it against test set\n",
    "model = models.load_model(model_filename)\n",
    "\n",
    "sample_shapes = x_val[7]\n",
    "prediction = model.predict(np.expand_dims(sample_shapes, axis=0))\n",
    "for i in range(100, 200):\n",
    "    prediction = model.predict(np.expand_dims(x_val[i], 0))\n",
    "    print('Answer:', y_val[i], ' Prediction:', prediction)"
   ]
  },
  {
   "cell_type": "code",
   "execution_count": 136,
   "id": "a7061355",
   "metadata": {},
   "outputs": [
    {
     "name": "stdout",
     "output_type": "stream",
     "text": [
      "31/31 [==============================] - 0s 3ms/step - loss: 0.1508 - acc: 0.9557\n"
     ]
    },
    {
     "data": {
      "text/plain": [
       "[0.15083429217338562, 0.9556701183319092]"
      ]
     },
     "execution_count": 136,
     "metadata": {},
     "output_type": "execute_result"
    }
   ],
   "source": [
    "# Evaluate model with test set\n",
    "model.evaluate(x=x_val, y=y_val)"
   ]
  },
  {
   "cell_type": "code",
   "execution_count": 139,
   "id": "943dec7c",
   "metadata": {},
   "outputs": [
    {
     "ename": "ValueError",
     "evalue": "in user code:\n\n    /home/skynet/.local/lib/python3.8/site-packages/tensorflow/python/keras/engine/training.py:1478 predict_function  *\n        return step_function(self, iterator)\n    /home/skynet/.local/lib/python3.8/site-packages/tensorflow/python/keras/engine/training.py:1468 step_function  **\n        outputs = model.distribute_strategy.run(run_step, args=(data,))\n    /home/skynet/.local/lib/python3.8/site-packages/tensorflow/python/distribute/distribute_lib.py:1259 run\n        return self._extended.call_for_each_replica(fn, args=args, kwargs=kwargs)\n    /home/skynet/.local/lib/python3.8/site-packages/tensorflow/python/distribute/distribute_lib.py:2730 call_for_each_replica\n        return self._call_for_each_replica(fn, args, kwargs)\n    /home/skynet/.local/lib/python3.8/site-packages/tensorflow/python/distribute/distribute_lib.py:3417 _call_for_each_replica\n        return fn(*args, **kwargs)\n    /home/skynet/.local/lib/python3.8/site-packages/tensorflow/python/keras/engine/training.py:1461 run_step  **\n        outputs = model.predict_step(data)\n    /home/skynet/.local/lib/python3.8/site-packages/tensorflow/python/keras/engine/training.py:1434 predict_step\n        return self(x, training=False)\n    /home/skynet/.local/lib/python3.8/site-packages/tensorflow/python/keras/engine/base_layer.py:998 __call__\n        input_spec.assert_input_compatibility(self.input_spec, inputs, self.name)\n    /home/skynet/.local/lib/python3.8/site-packages/tensorflow/python/keras/engine/input_spec.py:234 assert_input_compatibility\n        raise ValueError('Input ' + str(input_index) + ' of layer ' +\n\n    ValueError: Input 0 of layer sequential_7 is incompatible with the layer: : expected min_ndim=4, found ndim=2. Full shape received: (None, 1)\n",
     "output_type": "error",
     "traceback": [
      "\u001b[0;31m---------------------------------------------------------------------------\u001b[0m",
      "\u001b[0;31mValueError\u001b[0m                                Traceback (most recent call last)",
      "\u001b[0;32m<ipython-input-139-767df88f29af>\u001b[0m in \u001b[0;36m<module>\u001b[0;34m\u001b[0m\n\u001b[1;32m      3\u001b[0m \u001b[0mmfccs\u001b[0m \u001b[0;34m=\u001b[0m \u001b[0mnp\u001b[0m\u001b[0;34m.\u001b[0m\u001b[0mmean\u001b[0m\u001b[0;34m(\u001b[0m\u001b[0mlibrosa\u001b[0m\u001b[0;34m.\u001b[0m\u001b[0mfeature\u001b[0m\u001b[0;34m.\u001b[0m\u001b[0mmfcc\u001b[0m\u001b[0;34m(\u001b[0m\u001b[0my\u001b[0m\u001b[0;34m,\u001b[0m \u001b[0msr\u001b[0m\u001b[0;34m,\u001b[0m \u001b[0mn_mfcc\u001b[0m\u001b[0;34m=\u001b[0m\u001b[0;36m16\u001b[0m\u001b[0;34m)\u001b[0m\u001b[0;34m.\u001b[0m\u001b[0mT\u001b[0m\u001b[0;34m,\u001b[0m\u001b[0maxis\u001b[0m\u001b[0;34m=\u001b[0m\u001b[0;36m0\u001b[0m\u001b[0;34m)\u001b[0m\u001b[0;34m\u001b[0m\u001b[0;34m\u001b[0m\u001b[0m\n\u001b[1;32m      4\u001b[0m \u001b[0;34m\u001b[0m\u001b[0m\n\u001b[0;32m----> 5\u001b[0;31m \u001b[0mmodel\u001b[0m\u001b[0;34m.\u001b[0m\u001b[0mpredict\u001b[0m\u001b[0;34m(\u001b[0m\u001b[0mnp\u001b[0m\u001b[0;34m.\u001b[0m\u001b[0mexpand_dims\u001b[0m\u001b[0;34m(\u001b[0m\u001b[0mmfccs\u001b[0m\u001b[0;34m.\u001b[0m\u001b[0mshape\u001b[0m\u001b[0;34m,\u001b[0m \u001b[0;36m0\u001b[0m\u001b[0;34m)\u001b[0m\u001b[0;34m)\u001b[0m\u001b[0;34m\u001b[0m\u001b[0;34m\u001b[0m\u001b[0m\n\u001b[0m",
      "\u001b[0;32m~/.local/lib/python3.8/site-packages/tensorflow/python/keras/engine/training.py\u001b[0m in \u001b[0;36mpredict\u001b[0;34m(self, x, batch_size, verbose, steps, callbacks, max_queue_size, workers, use_multiprocessing)\u001b[0m\n\u001b[1;32m   1627\u001b[0m           \u001b[0;32mfor\u001b[0m \u001b[0mstep\u001b[0m \u001b[0;32min\u001b[0m \u001b[0mdata_handler\u001b[0m\u001b[0;34m.\u001b[0m\u001b[0msteps\u001b[0m\u001b[0;34m(\u001b[0m\u001b[0;34m)\u001b[0m\u001b[0;34m:\u001b[0m\u001b[0;34m\u001b[0m\u001b[0;34m\u001b[0m\u001b[0m\n\u001b[1;32m   1628\u001b[0m             \u001b[0mcallbacks\u001b[0m\u001b[0;34m.\u001b[0m\u001b[0mon_predict_batch_begin\u001b[0m\u001b[0;34m(\u001b[0m\u001b[0mstep\u001b[0m\u001b[0;34m)\u001b[0m\u001b[0;34m\u001b[0m\u001b[0;34m\u001b[0m\u001b[0m\n\u001b[0;32m-> 1629\u001b[0;31m             \u001b[0mtmp_batch_outputs\u001b[0m \u001b[0;34m=\u001b[0m \u001b[0mself\u001b[0m\u001b[0;34m.\u001b[0m\u001b[0mpredict_function\u001b[0m\u001b[0;34m(\u001b[0m\u001b[0miterator\u001b[0m\u001b[0;34m)\u001b[0m\u001b[0;34m\u001b[0m\u001b[0;34m\u001b[0m\u001b[0m\n\u001b[0m\u001b[1;32m   1630\u001b[0m             \u001b[0;32mif\u001b[0m \u001b[0mdata_handler\u001b[0m\u001b[0;34m.\u001b[0m\u001b[0mshould_sync\u001b[0m\u001b[0;34m:\u001b[0m\u001b[0;34m\u001b[0m\u001b[0;34m\u001b[0m\u001b[0m\n\u001b[1;32m   1631\u001b[0m               \u001b[0mcontext\u001b[0m\u001b[0;34m.\u001b[0m\u001b[0masync_wait\u001b[0m\u001b[0;34m(\u001b[0m\u001b[0;34m)\u001b[0m\u001b[0;34m\u001b[0m\u001b[0;34m\u001b[0m\u001b[0m\n",
      "\u001b[0;32m~/.local/lib/python3.8/site-packages/tensorflow/python/eager/def_function.py\u001b[0m in \u001b[0;36m__call__\u001b[0;34m(self, *args, **kwds)\u001b[0m\n\u001b[1;32m    826\u001b[0m     \u001b[0mtracing_count\u001b[0m \u001b[0;34m=\u001b[0m \u001b[0mself\u001b[0m\u001b[0;34m.\u001b[0m\u001b[0mexperimental_get_tracing_count\u001b[0m\u001b[0;34m(\u001b[0m\u001b[0;34m)\u001b[0m\u001b[0;34m\u001b[0m\u001b[0;34m\u001b[0m\u001b[0m\n\u001b[1;32m    827\u001b[0m     \u001b[0;32mwith\u001b[0m \u001b[0mtrace\u001b[0m\u001b[0;34m.\u001b[0m\u001b[0mTrace\u001b[0m\u001b[0;34m(\u001b[0m\u001b[0mself\u001b[0m\u001b[0;34m.\u001b[0m\u001b[0m_name\u001b[0m\u001b[0;34m)\u001b[0m \u001b[0;32mas\u001b[0m \u001b[0mtm\u001b[0m\u001b[0;34m:\u001b[0m\u001b[0;34m\u001b[0m\u001b[0;34m\u001b[0m\u001b[0m\n\u001b[0;32m--> 828\u001b[0;31m       \u001b[0mresult\u001b[0m \u001b[0;34m=\u001b[0m \u001b[0mself\u001b[0m\u001b[0;34m.\u001b[0m\u001b[0m_call\u001b[0m\u001b[0;34m(\u001b[0m\u001b[0;34m*\u001b[0m\u001b[0margs\u001b[0m\u001b[0;34m,\u001b[0m \u001b[0;34m**\u001b[0m\u001b[0mkwds\u001b[0m\u001b[0;34m)\u001b[0m\u001b[0;34m\u001b[0m\u001b[0;34m\u001b[0m\u001b[0m\n\u001b[0m\u001b[1;32m    829\u001b[0m       \u001b[0mcompiler\u001b[0m \u001b[0;34m=\u001b[0m \u001b[0;34m\"xla\"\u001b[0m \u001b[0;32mif\u001b[0m \u001b[0mself\u001b[0m\u001b[0;34m.\u001b[0m\u001b[0m_experimental_compile\u001b[0m \u001b[0;32melse\u001b[0m \u001b[0;34m\"nonXla\"\u001b[0m\u001b[0;34m\u001b[0m\u001b[0;34m\u001b[0m\u001b[0m\n\u001b[1;32m    830\u001b[0m       \u001b[0mnew_tracing_count\u001b[0m \u001b[0;34m=\u001b[0m \u001b[0mself\u001b[0m\u001b[0;34m.\u001b[0m\u001b[0mexperimental_get_tracing_count\u001b[0m\u001b[0;34m(\u001b[0m\u001b[0;34m)\u001b[0m\u001b[0;34m\u001b[0m\u001b[0;34m\u001b[0m\u001b[0m\n",
      "\u001b[0;32m~/.local/lib/python3.8/site-packages/tensorflow/python/eager/def_function.py\u001b[0m in \u001b[0;36m_call\u001b[0;34m(self, *args, **kwds)\u001b[0m\n\u001b[1;32m    860\u001b[0m       \u001b[0;31m# In this case we have not created variables on the first call. So we can\u001b[0m\u001b[0;34m\u001b[0m\u001b[0;34m\u001b[0m\u001b[0;34m\u001b[0m\u001b[0m\n\u001b[1;32m    861\u001b[0m       \u001b[0;31m# run the first trace but we should fail if variables are created.\u001b[0m\u001b[0;34m\u001b[0m\u001b[0;34m\u001b[0m\u001b[0;34m\u001b[0m\u001b[0m\n\u001b[0;32m--> 862\u001b[0;31m       \u001b[0mresults\u001b[0m \u001b[0;34m=\u001b[0m \u001b[0mself\u001b[0m\u001b[0;34m.\u001b[0m\u001b[0m_stateful_fn\u001b[0m\u001b[0;34m(\u001b[0m\u001b[0;34m*\u001b[0m\u001b[0margs\u001b[0m\u001b[0;34m,\u001b[0m \u001b[0;34m**\u001b[0m\u001b[0mkwds\u001b[0m\u001b[0;34m)\u001b[0m\u001b[0;34m\u001b[0m\u001b[0;34m\u001b[0m\u001b[0m\n\u001b[0m\u001b[1;32m    863\u001b[0m       \u001b[0;32mif\u001b[0m \u001b[0mself\u001b[0m\u001b[0;34m.\u001b[0m\u001b[0m_created_variables\u001b[0m\u001b[0;34m:\u001b[0m\u001b[0;34m\u001b[0m\u001b[0;34m\u001b[0m\u001b[0m\n\u001b[1;32m    864\u001b[0m         raise ValueError(\"Creating variables on a non-first call to a function\"\n",
      "\u001b[0;32m~/.local/lib/python3.8/site-packages/tensorflow/python/eager/function.py\u001b[0m in \u001b[0;36m__call__\u001b[0;34m(self, *args, **kwargs)\u001b[0m\n\u001b[1;32m   2939\u001b[0m     \u001b[0;32mwith\u001b[0m \u001b[0mself\u001b[0m\u001b[0;34m.\u001b[0m\u001b[0m_lock\u001b[0m\u001b[0;34m:\u001b[0m\u001b[0;34m\u001b[0m\u001b[0;34m\u001b[0m\u001b[0m\n\u001b[1;32m   2940\u001b[0m       (graph_function,\n\u001b[0;32m-> 2941\u001b[0;31m        filtered_flat_args) = self._maybe_define_function(args, kwargs)\n\u001b[0m\u001b[1;32m   2942\u001b[0m     return graph_function._call_flat(\n\u001b[1;32m   2943\u001b[0m         filtered_flat_args, captured_inputs=graph_function.captured_inputs)  # pylint: disable=protected-access\n",
      "\u001b[0;32m~/.local/lib/python3.8/site-packages/tensorflow/python/eager/function.py\u001b[0m in \u001b[0;36m_maybe_define_function\u001b[0;34m(self, args, kwargs)\u001b[0m\n\u001b[1;32m   3355\u001b[0m               \u001b[0mself\u001b[0m\u001b[0;34m.\u001b[0m\u001b[0minput_signature\u001b[0m \u001b[0;32mis\u001b[0m \u001b[0;32mNone\u001b[0m \u001b[0;32mand\u001b[0m\u001b[0;34m\u001b[0m\u001b[0;34m\u001b[0m\u001b[0m\n\u001b[1;32m   3356\u001b[0m               call_context_key in self._function_cache.missed):\n\u001b[0;32m-> 3357\u001b[0;31m             return self._define_function_with_shape_relaxation(\n\u001b[0m\u001b[1;32m   3358\u001b[0m                 args, kwargs, flat_args, filtered_flat_args, cache_key_context)\n\u001b[1;32m   3359\u001b[0m \u001b[0;34m\u001b[0m\u001b[0m\n",
      "\u001b[0;32m~/.local/lib/python3.8/site-packages/tensorflow/python/eager/function.py\u001b[0m in \u001b[0;36m_define_function_with_shape_relaxation\u001b[0;34m(self, args, kwargs, flat_args, filtered_flat_args, cache_key_context)\u001b[0m\n\u001b[1;32m   3277\u001b[0m           expand_composites=True)\n\u001b[1;32m   3278\u001b[0m \u001b[0;34m\u001b[0m\u001b[0m\n\u001b[0;32m-> 3279\u001b[0;31m     graph_function = self._create_graph_function(\n\u001b[0m\u001b[1;32m   3280\u001b[0m         args, kwargs, override_flat_arg_shapes=relaxed_arg_shapes)\n\u001b[1;32m   3281\u001b[0m     \u001b[0mself\u001b[0m\u001b[0;34m.\u001b[0m\u001b[0m_function_cache\u001b[0m\u001b[0;34m.\u001b[0m\u001b[0marg_relaxed\u001b[0m\u001b[0;34m[\u001b[0m\u001b[0mrank_only_cache_key\u001b[0m\u001b[0;34m]\u001b[0m \u001b[0;34m=\u001b[0m \u001b[0mgraph_function\u001b[0m\u001b[0;34m\u001b[0m\u001b[0;34m\u001b[0m\u001b[0m\n",
      "\u001b[0;32m~/.local/lib/python3.8/site-packages/tensorflow/python/eager/function.py\u001b[0m in \u001b[0;36m_create_graph_function\u001b[0;34m(self, args, kwargs, override_flat_arg_shapes)\u001b[0m\n\u001b[1;32m   3194\u001b[0m     \u001b[0marg_names\u001b[0m \u001b[0;34m=\u001b[0m \u001b[0mbase_arg_names\u001b[0m \u001b[0;34m+\u001b[0m \u001b[0mmissing_arg_names\u001b[0m\u001b[0;34m\u001b[0m\u001b[0;34m\u001b[0m\u001b[0m\n\u001b[1;32m   3195\u001b[0m     graph_function = ConcreteFunction(\n\u001b[0;32m-> 3196\u001b[0;31m         func_graph_module.func_graph_from_py_func(\n\u001b[0m\u001b[1;32m   3197\u001b[0m             \u001b[0mself\u001b[0m\u001b[0;34m.\u001b[0m\u001b[0m_name\u001b[0m\u001b[0;34m,\u001b[0m\u001b[0;34m\u001b[0m\u001b[0;34m\u001b[0m\u001b[0m\n\u001b[1;32m   3198\u001b[0m             \u001b[0mself\u001b[0m\u001b[0;34m.\u001b[0m\u001b[0m_python_function\u001b[0m\u001b[0;34m,\u001b[0m\u001b[0;34m\u001b[0m\u001b[0;34m\u001b[0m\u001b[0m\n",
      "\u001b[0;32m~/.local/lib/python3.8/site-packages/tensorflow/python/framework/func_graph.py\u001b[0m in \u001b[0;36mfunc_graph_from_py_func\u001b[0;34m(name, python_func, args, kwargs, signature, func_graph, autograph, autograph_options, add_control_dependencies, arg_names, op_return_value, collections, capture_by_value, override_flat_arg_shapes)\u001b[0m\n\u001b[1;32m    988\u001b[0m         \u001b[0m_\u001b[0m\u001b[0;34m,\u001b[0m \u001b[0moriginal_func\u001b[0m \u001b[0;34m=\u001b[0m \u001b[0mtf_decorator\u001b[0m\u001b[0;34m.\u001b[0m\u001b[0munwrap\u001b[0m\u001b[0;34m(\u001b[0m\u001b[0mpython_func\u001b[0m\u001b[0;34m)\u001b[0m\u001b[0;34m\u001b[0m\u001b[0;34m\u001b[0m\u001b[0m\n\u001b[1;32m    989\u001b[0m \u001b[0;34m\u001b[0m\u001b[0m\n\u001b[0;32m--> 990\u001b[0;31m       \u001b[0mfunc_outputs\u001b[0m \u001b[0;34m=\u001b[0m \u001b[0mpython_func\u001b[0m\u001b[0;34m(\u001b[0m\u001b[0;34m*\u001b[0m\u001b[0mfunc_args\u001b[0m\u001b[0;34m,\u001b[0m \u001b[0;34m**\u001b[0m\u001b[0mfunc_kwargs\u001b[0m\u001b[0;34m)\u001b[0m\u001b[0;34m\u001b[0m\u001b[0;34m\u001b[0m\u001b[0m\n\u001b[0m\u001b[1;32m    991\u001b[0m \u001b[0;34m\u001b[0m\u001b[0m\n\u001b[1;32m    992\u001b[0m       \u001b[0;31m# invariant: `func_outputs` contains only Tensors, CompositeTensors,\u001b[0m\u001b[0;34m\u001b[0m\u001b[0;34m\u001b[0m\u001b[0;34m\u001b[0m\u001b[0m\n",
      "\u001b[0;32m~/.local/lib/python3.8/site-packages/tensorflow/python/eager/def_function.py\u001b[0m in \u001b[0;36mwrapped_fn\u001b[0;34m(*args, **kwds)\u001b[0m\n\u001b[1;32m    632\u001b[0m             \u001b[0mxla_context\u001b[0m\u001b[0;34m.\u001b[0m\u001b[0mExit\u001b[0m\u001b[0;34m(\u001b[0m\u001b[0;34m)\u001b[0m\u001b[0;34m\u001b[0m\u001b[0;34m\u001b[0m\u001b[0m\n\u001b[1;32m    633\u001b[0m         \u001b[0;32melse\u001b[0m\u001b[0;34m:\u001b[0m\u001b[0;34m\u001b[0m\u001b[0;34m\u001b[0m\u001b[0m\n\u001b[0;32m--> 634\u001b[0;31m           \u001b[0mout\u001b[0m \u001b[0;34m=\u001b[0m \u001b[0mweak_wrapped_fn\u001b[0m\u001b[0;34m(\u001b[0m\u001b[0;34m)\u001b[0m\u001b[0;34m.\u001b[0m\u001b[0m__wrapped__\u001b[0m\u001b[0;34m(\u001b[0m\u001b[0;34m*\u001b[0m\u001b[0margs\u001b[0m\u001b[0;34m,\u001b[0m \u001b[0;34m**\u001b[0m\u001b[0mkwds\u001b[0m\u001b[0;34m)\u001b[0m\u001b[0;34m\u001b[0m\u001b[0;34m\u001b[0m\u001b[0m\n\u001b[0m\u001b[1;32m    635\u001b[0m         \u001b[0;32mreturn\u001b[0m \u001b[0mout\u001b[0m\u001b[0;34m\u001b[0m\u001b[0;34m\u001b[0m\u001b[0m\n\u001b[1;32m    636\u001b[0m \u001b[0;34m\u001b[0m\u001b[0m\n",
      "\u001b[0;32m~/.local/lib/python3.8/site-packages/tensorflow/python/framework/func_graph.py\u001b[0m in \u001b[0;36mwrapper\u001b[0;34m(*args, **kwargs)\u001b[0m\n\u001b[1;32m    975\u001b[0m           \u001b[0;32mexcept\u001b[0m \u001b[0mException\u001b[0m \u001b[0;32mas\u001b[0m \u001b[0me\u001b[0m\u001b[0;34m:\u001b[0m  \u001b[0;31m# pylint:disable=broad-except\u001b[0m\u001b[0;34m\u001b[0m\u001b[0;34m\u001b[0m\u001b[0m\n\u001b[1;32m    976\u001b[0m             \u001b[0;32mif\u001b[0m \u001b[0mhasattr\u001b[0m\u001b[0;34m(\u001b[0m\u001b[0me\u001b[0m\u001b[0;34m,\u001b[0m \u001b[0;34m\"ag_error_metadata\"\u001b[0m\u001b[0;34m)\u001b[0m\u001b[0;34m:\u001b[0m\u001b[0;34m\u001b[0m\u001b[0;34m\u001b[0m\u001b[0m\n\u001b[0;32m--> 977\u001b[0;31m               \u001b[0;32mraise\u001b[0m \u001b[0me\u001b[0m\u001b[0;34m.\u001b[0m\u001b[0mag_error_metadata\u001b[0m\u001b[0;34m.\u001b[0m\u001b[0mto_exception\u001b[0m\u001b[0;34m(\u001b[0m\u001b[0me\u001b[0m\u001b[0;34m)\u001b[0m\u001b[0;34m\u001b[0m\u001b[0;34m\u001b[0m\u001b[0m\n\u001b[0m\u001b[1;32m    978\u001b[0m             \u001b[0;32melse\u001b[0m\u001b[0;34m:\u001b[0m\u001b[0;34m\u001b[0m\u001b[0;34m\u001b[0m\u001b[0m\n\u001b[1;32m    979\u001b[0m               \u001b[0;32mraise\u001b[0m\u001b[0;34m\u001b[0m\u001b[0;34m\u001b[0m\u001b[0m\n",
      "\u001b[0;31mValueError\u001b[0m: in user code:\n\n    /home/skynet/.local/lib/python3.8/site-packages/tensorflow/python/keras/engine/training.py:1478 predict_function  *\n        return step_function(self, iterator)\n    /home/skynet/.local/lib/python3.8/site-packages/tensorflow/python/keras/engine/training.py:1468 step_function  **\n        outputs = model.distribute_strategy.run(run_step, args=(data,))\n    /home/skynet/.local/lib/python3.8/site-packages/tensorflow/python/distribute/distribute_lib.py:1259 run\n        return self._extended.call_for_each_replica(fn, args=args, kwargs=kwargs)\n    /home/skynet/.local/lib/python3.8/site-packages/tensorflow/python/distribute/distribute_lib.py:2730 call_for_each_replica\n        return self._call_for_each_replica(fn, args, kwargs)\n    /home/skynet/.local/lib/python3.8/site-packages/tensorflow/python/distribute/distribute_lib.py:3417 _call_for_each_replica\n        return fn(*args, **kwargs)\n    /home/skynet/.local/lib/python3.8/site-packages/tensorflow/python/keras/engine/training.py:1461 run_step  **\n        outputs = model.predict_step(data)\n    /home/skynet/.local/lib/python3.8/site-packages/tensorflow/python/keras/engine/training.py:1434 predict_step\n        return self(x, training=False)\n    /home/skynet/.local/lib/python3.8/site-packages/tensorflow/python/keras/engine/base_layer.py:998 __call__\n        input_spec.assert_input_compatibility(self.input_spec, inputs, self.name)\n    /home/skynet/.local/lib/python3.8/site-packages/tensorflow/python/keras/engine/input_spec.py:234 assert_input_compatibility\n        raise ValueError('Input ' + str(input_index) + ' of layer ' +\n\n    ValueError: Input 0 of layer sequential_7 is incompatible with the layer: : expected min_ndim=4, found ndim=2. Full shape received: (None, 1)\n"
     ]
    }
   ],
   "source": [
    "import librosa\n",
    "y,sr  = librosa.load(\"../../Dataset/speech_dataset/zero/0a2b400e_nohash_0.wav\", 8000)\n",
    "mfccs = np.mean(librosa.feature.mfcc(y, sr, n_mfcc=16).T,axis=0)\n",
    "\n",
    "model.predict(np.expand_dims(mfccs.shape, 0))"
   ]
  },
  {
   "cell_type": "code",
   "execution_count": null,
   "id": "112fa78d",
   "metadata": {},
   "outputs": [],
   "source": []
  }
 ],
 "metadata": {
  "kernelspec": {
   "display_name": "Python 3",
   "language": "python",
   "name": "python3"
  },
  "language_info": {
   "codemirror_mode": {
    "name": "ipython",
    "version": 3
   },
   "file_extension": ".py",
   "mimetype": "text/x-python",
   "name": "python",
   "nbconvert_exporter": "python",
   "pygments_lexer": "ipython3",
   "version": "3.8.5"
  }
 },
 "nbformat": 4,
 "nbformat_minor": 5
}
