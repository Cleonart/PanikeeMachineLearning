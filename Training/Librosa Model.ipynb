{
 "cells": [
  {
   "cell_type": "code",
   "execution_count": 1,
   "id": "f08a98c1",
   "metadata": {},
   "outputs": [
    {
     "name": "stdout",
     "output_type": "stream",
     "text": [
      "2.4.1\n"
     ]
    }
   ],
   "source": [
    "import numpy as np\n",
    "import librosa\n",
    "from numpy import genfromtxt\n",
    "from tensorflow.keras.utils import to_categorical\n",
    "from tensorflow.keras import Sequential\n",
    "from librosa import display\n",
    "import tensorflow as tf\n",
    "from tensorflow.keras.layers import Dense, Flatten, Conv2D, MaxPooling2D, Dropout\n",
    "from tensorflow.keras import Model\n",
    "from tensorflow.keras import layers, models\n",
    "print(tf.__version__)"
   ]
  },
  {
   "cell_type": "code",
   "execution_count": 2,
   "id": "619787a6",
   "metadata": {},
   "outputs": [],
   "source": [
    "# Parameter\n",
    "num_of_class = 1\n",
    "shape = 40"
   ]
  },
  {
   "cell_type": "code",
   "execution_count": 3,
   "id": "1637731c",
   "metadata": {},
   "outputs": [
    {
     "data": {
      "text/plain": [
       "((675, 40), (171, 40), (675,), (171,))"
      ]
     },
     "execution_count": 3,
     "metadata": {},
     "output_type": "execute_result"
    }
   ],
   "source": [
    "x_train = genfromtxt('train_data.csv', delimiter=',')\n",
    "y_train = genfromtxt('train_labels.csv', delimiter=',')\n",
    "x_test  = genfromtxt('test_data.csv', delimiter=',')\n",
    "y_test  = genfromtxt('test_labels.csv', delimiter=',')\n",
    "x_train.shape,x_test.shape,y_train.shape,y_test.shape"
   ]
  },
  {
   "cell_type": "code",
   "execution_count": 4,
   "id": "c53ed4fc",
   "metadata": {},
   "outputs": [
    {
     "data": {
      "text/plain": [
       "((675, 1), (171, 1))"
      ]
     },
     "execution_count": 4,
     "metadata": {},
     "output_type": "execute_result"
    }
   ],
   "source": [
    "# Convert to One Hot Data\n",
    "y_train = to_categorical(y_train, num_classes = num_of_class)\n",
    "y_test  = to_categorical(y_test, num_classes  = num_of_class)\n",
    "y_train.shape,y_test.shape"
   ]
  },
  {
   "cell_type": "code",
   "execution_count": 117,
   "id": "f5cf5df5",
   "metadata": {},
   "outputs": [
    {
     "data": {
      "text/plain": [
       "((675, 40, 1, 1), (171, 40, 1, 1))"
      ]
     },
     "execution_count": 117,
     "metadata": {},
     "output_type": "execute_result"
    }
   ],
   "source": [
    "# Reshaping to Shape Required by CNN\n",
    "x_train = np.reshape(x_train,(x_train.shape[0], shape,1,1))\n",
    "x_test  = np.reshape(x_test,(x_test.shape[0], shape,1,1))\n",
    "\n",
    "# Shapes\n",
    "x_train.shape,x_test.shape"
   ]
  },
  {
   "cell_type": "code",
   "execution_count": 139,
   "id": "46f2444a",
   "metadata": {},
   "outputs": [
    {
     "name": "stdout",
     "output_type": "stream",
     "text": [
      "Model: \"sequential_10\"\n",
      "_________________________________________________________________\n",
      "Layer (type)                 Output Shape              Param #   \n",
      "=================================================================\n",
      "conv2d_29 (Conv2D)           (None, 40, 1, 64)         1664      \n",
      "_________________________________________________________________\n",
      "max_pooling2d_26 (MaxPooling (None, 20, 1, 64)         0         \n",
      "_________________________________________________________________\n",
      "conv2d_30 (Conv2D)           (None, 20, 1, 128)        204928    \n",
      "_________________________________________________________________\n",
      "max_pooling2d_27 (MaxPooling (None, 10, 1, 128)        0         \n",
      "_________________________________________________________________\n",
      "dropout_18 (Dropout)         (None, 10, 1, 128)        0         \n",
      "_________________________________________________________________\n",
      "flatten_10 (Flatten)         (None, 1280)              0         \n",
      "_________________________________________________________________\n",
      "dense_24 (Dense)             (None, 256)               327936    \n",
      "_________________________________________________________________\n",
      "dropout_19 (Dropout)         (None, 256)               0         \n",
      "_________________________________________________________________\n",
      "dense_25 (Dense)             (None, 512)               131584    \n",
      "_________________________________________________________________\n",
      "dropout_20 (Dropout)         (None, 512)               0         \n",
      "_________________________________________________________________\n",
      "dense_26 (Dense)             (None, 1)                 513       \n",
      "=================================================================\n",
      "Total params: 666,625\n",
      "Trainable params: 666,625\n",
      "Non-trainable params: 0\n",
      "_________________________________________________________________\n"
     ]
    }
   ],
   "source": [
    "#forming model\n",
    "model=Sequential()\n",
    "#adding layers and forming the model\n",
    "model.add(Conv2D(64,kernel_size=5,strides=1,padding=\"Same\",activation=\"relu\",input_shape=(40,1,1)))\n",
    "model.add(MaxPooling2D(padding=\"same\"))\n",
    "\n",
    "model.add(Conv2D(128,kernel_size=5,strides=1,padding=\"same\",activation=\"relu\"))\n",
    "model.add(MaxPooling2D(padding=\"same\"))\n",
    "model.add(Dropout(0.3))\n",
    "\n",
    "model.add(Flatten())\n",
    "\n",
    "model.add(Dense(256,activation=\"relu\"))\n",
    "model.add(Dropout(0.3))\n",
    "\n",
    "model.add(Dense(512,activation=\"relu\"))\n",
    "model.add(Dropout(0.3))\n",
    "\n",
    "model.add(Dense(1,activation=\"softmax\"))\n",
    "model.summary()"
   ]
  },
  {
   "cell_type": "code",
   "execution_count": 140,
   "id": "9c720a6a",
   "metadata": {},
   "outputs": [],
   "source": [
    "# Compiling\n",
    "model.compile(optimizer=\"rmsprop\",loss=\"categorical_crossentropy\",metrics=[\"accuracy\"])"
   ]
  },
  {
   "cell_type": "code",
   "execution_count": 128,
   "id": "64a6ab78",
   "metadata": {},
   "outputs": [
    {
     "name": "stdout",
     "output_type": "stream",
     "text": [
      "14/14 [==============================] - 1s 58ms/step - loss: 0.0000e+00 - accuracy: 1.0000 - val_loss: 0.0000e+00 - val_accuracy: 1.0000\n"
     ]
    },
    {
     "data": {
      "text/plain": [
       "<tensorflow.python.keras.callbacks.History at 0x7f8d88eb6d60>"
      ]
     },
     "execution_count": 128,
     "metadata": {},
     "output_type": "execute_result"
    }
   ],
   "source": [
    "# Training the model\n",
    "model.fit(x_train,y_train,batch_size=50,epochs=1,validation_data=(x_test,y_test))"
   ]
  },
  {
   "cell_type": "code",
   "execution_count": 129,
   "id": "b445a39c",
   "metadata": {},
   "outputs": [
    {
     "name": "stdout",
     "output_type": "stream",
     "text": [
      "22/22 [==============================] - 0s 8ms/step - loss: 0.0000e+00 - accuracy: 1.0000\n",
      "6/6 [==============================] - 0s 8ms/step - loss: 0.0000e+00 - accuracy: 1.0000\n",
      "[0.0, 1.0]\n",
      "[0.0, 1.0]\n"
     ]
    }
   ],
   "source": [
    "# train and test loss and scores respectively\n",
    "train_loss_score=model.evaluate(x_train,y_train)\n",
    "test_loss_score=model.evaluate(x_test,y_test)\n",
    "print(train_loss_score)\n",
    "print(test_loss_score)"
   ]
  },
  {
   "cell_type": "code",
   "execution_count": 130,
   "id": "39cbfa06",
   "metadata": {},
   "outputs": [
    {
     "name": "stdout",
     "output_type": "stream",
     "text": [
      "INFO:tensorflow:Assets written to: panikee/assets\n"
     ]
    },
    {
     "name": "stderr",
     "output_type": "stream",
     "text": [
      "INFO:tensorflow:Assets written to: panikee/assets\n"
     ]
    }
   ],
   "source": [
    "model.save('panikee')"
   ]
  },
  {
   "cell_type": "code",
   "execution_count": 131,
   "id": "87015eaa",
   "metadata": {},
   "outputs": [
    {
     "name": "stdout",
     "output_type": "stream",
     "text": [
      "INFO:tensorflow:Assets written to: /tmp/tmp0p37umce/assets\n"
     ]
    },
    {
     "name": "stderr",
     "output_type": "stream",
     "text": [
      "INFO:tensorflow:Assets written to: /tmp/tmp0p37umce/assets\n"
     ]
    }
   ],
   "source": [
    "converter = tf.lite.TFLiteConverter.from_keras_model(model)\n",
    "tflite_model = converter.convert()\n",
    "\n",
    "# Save the TF Lite model.\n",
    "with tf.io.gfile.GFile('panikeemodel.tflite', 'wb') as f:\n",
    "  f.write(tflite_model)"
   ]
  },
  {
   "cell_type": "code",
   "execution_count": 132,
   "id": "b273ddad",
   "metadata": {},
   "outputs": [
    {
     "data": {
      "text/plain": [
       "(40, 1, 1)"
      ]
     },
     "execution_count": 132,
     "metadata": {},
     "output_type": "execute_result"
    }
   ],
   "source": [
    "x_test[0].shape"
   ]
  },
  {
   "cell_type": "code",
   "execution_count": 133,
   "id": "e8bb810b",
   "metadata": {},
   "outputs": [],
   "source": [
    "testData = np.expand_dims(x_test[6],axis=0)"
   ]
  },
  {
   "cell_type": "code",
   "execution_count": 134,
   "id": "3338a641",
   "metadata": {},
   "outputs": [],
   "source": [
    "prediction = model.predict(testData)"
   ]
  },
  {
   "cell_type": "code",
   "execution_count": 135,
   "id": "d335a9ba",
   "metadata": {},
   "outputs": [
    {
     "data": {
      "text/plain": [
       "1.0"
      ]
     },
     "execution_count": 135,
     "metadata": {},
     "output_type": "execute_result"
    }
   ],
   "source": [
    "prediction[0][0]"
   ]
  },
  {
   "cell_type": "code",
   "execution_count": 107,
   "id": "48a9b1e4",
   "metadata": {},
   "outputs": [
    {
     "data": {
      "text/plain": [
       "array([1.], dtype=float32)"
      ]
     },
     "execution_count": 107,
     "metadata": {},
     "output_type": "execute_result"
    }
   ],
   "source": [
    "y_test[5]"
   ]
  },
  {
   "cell_type": "code",
   "execution_count": 91,
   "id": "5abf8ac4",
   "metadata": {},
   "outputs": [],
   "source": [
    "# Load the TFLite model and allocate tensors.\n",
    "interpreter = tf.lite.Interpreter(model_path=\"panikeemodel.tflite\")\n",
    "interpreter.allocate_tensors()\n",
    "\n",
    "# Get input and output tensors.\n",
    "input_details = interpreter.get_input_details()\n",
    "output_details = interpreter.get_output_details()"
   ]
  },
  {
   "cell_type": "code",
   "execution_count": 92,
   "id": "b353f941",
   "metadata": {},
   "outputs": [
    {
     "data": {
      "text/plain": [
       "[{'name': 'conv2d_12_input',\n",
       "  'index': 0,\n",
       "  'shape': array([ 1, 40,  1,  1], dtype=int32),\n",
       "  'shape_signature': array([-1, 40,  1,  1], dtype=int32),\n",
       "  'dtype': numpy.float32,\n",
       "  'quantization': (0.0, 0),\n",
       "  'quantization_parameters': {'scales': array([], dtype=float32),\n",
       "   'zero_points': array([], dtype=int32),\n",
       "   'quantized_dimension': 0},\n",
       "  'sparsity_parameters': {}}]"
      ]
     },
     "execution_count": 92,
     "metadata": {},
     "output_type": "execute_result"
    }
   ],
   "source": [
    "input_details"
   ]
  },
  {
   "cell_type": "code",
   "execution_count": 93,
   "id": "27a29f9c",
   "metadata": {},
   "outputs": [],
   "source": [
    "testData = np.expand_dims(x_test[5],axis=0)\n",
    "atData = np.float32(testData)"
   ]
  },
  {
   "cell_type": "code",
   "execution_count": 136,
   "id": "a40a79f3",
   "metadata": {},
   "outputs": [
    {
     "name": "stdout",
     "output_type": "stream",
     "text": [
      "float32\n",
      "(1, 40, 1, 1)\n",
      "nan\n"
     ]
    }
   ],
   "source": [
    "input_shape = input_details[0]['shape']\n",
    "input_data = np.array(np.random.random_sample(input_shape), dtype=np.float32)\n",
    "interpreter.set_tensor(input_details[0]['index'], atData)\n",
    "print(input_data.dtype)\n",
    "print(testData.shape)\n",
    "interpreter.invoke()\n",
    "\n",
    "# The function `get_tensor()` returns a copy of the tensor data.\n",
    "# Use `tensor()` in order to get a pointer to the tensor.\n",
    "output_data = interpreter.get_tensor(output_details[0]['index'])\n",
    "print(output_data[0][0])"
   ]
  },
  {
   "cell_type": "code",
   "execution_count": 138,
   "id": "66510c05",
   "metadata": {},
   "outputs": [
    {
     "name": "stdout",
     "output_type": "stream",
     "text": [
      "1.0\n"
     ]
    },
    {
     "data": {
      "image/png": "[encoded data removed]",
      "text/plain": [
       "<Figure size 720x288 with 2 Axes>"
      ]
     },
     "metadata": {
      "needs_background": "light"
     },
     "output_type": "display_data"
    }
   ],
   "source": [
    "y,sr  = librosa.load(\"../../Dataset/speech_dataset/zero/0a2b400e_nohash_0.wav\", 8000)\n",
    "mfccs = np.mean(librosa.feature.mfcc(y, sr, n_mfcc=40).T,axis=0)\n",
    "mfccss = librosa.feature.mfcc(y, sr, n_mfcc=40)\n",
    "\n",
    "cek = np.array(mfccs)\n",
    "cek = np.reshape(cek, (shape, 1, 1))\n",
    "newShape = np.expand_dims(cek, axis=0)\n",
    "prediction = model.predict(newShape)\n",
    "print(prediction[0][0])\n",
    "\n",
    "import matplotlib.pyplot as plt\n",
    "plt.figure(figsize=(10, 4))\n",
    "librosa.display.specshow(mfccss, x_axis='time')\n",
    "plt.colorbar()\n",
    "plt.title('MFCC')\n",
    "plt.tight_layout()"
   ]
  },
  {
   "cell_type": "code",
   "execution_count": null,
   "id": "06825b46",
   "metadata": {},
   "outputs": [],
   "source": []
  }
 ],
 "metadata": {
  "kernelspec": {
   "display_name": "Python 3",
   "language": "python",
   "name": "python3"
  },
  "language_info": {
   "codemirror_mode": {
    "name": "ipython",
    "version": 3
   },
   "file_extension": ".py",
   "mimetype": "text/x-python",
   "name": "python",
   "nbconvert_exporter": "python",
   "pygments_lexer": "ipython3",
   "version": "3.8.5"
  }
 },
 "nbformat": 4,
 "nbformat_minor": 5
}
